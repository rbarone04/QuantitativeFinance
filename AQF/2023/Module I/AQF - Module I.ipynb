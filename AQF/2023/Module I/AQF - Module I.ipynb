{
 "cells": [
  {
   "cell_type": "markdown",
   "metadata": {
    "slideshow": {
     "slide_type": "slide"
    }
   },
   "source": [
    "![cover](./img/cover.png)"
   ]
  },
  {
   "cell_type": "markdown",
   "metadata": {
    "slideshow": {
     "slide_type": "slide"
    }
   },
   "source": [
    "![exercise](./img/exercise.png)"
   ]
  },
  {
   "cell_type": "code",
   "execution_count": null,
   "metadata": {
    "slideshow": {
     "slide_type": "skip"
    }
   },
   "outputs": [],
   "source": [
    "import numpy as np\n",
    "import AdvancedQF as aqf\n",
    "import plotly.offline as po\n",
    "import plotly.graph_objs as go\n",
    "\n",
    "import ipywidgets as widgets\n",
    "from ipywidgets import interact\n",
    "\n",
    "from ipywidgets.embed import embed_minimal_html\n",
    "\n",
    "po.init_notebook_mode(connected=True)"
   ]
  },
  {
   "cell_type": "code",
   "execution_count": null,
   "metadata": {
    "slideshow": {
     "slide_type": "skip"
    }
   },
   "outputs": [],
   "source": [
    "layout = widgets.Layout(width='98%', height='50px')\n",
    "style = {'description_width': 'initial'}\n",
    "\n",
    "wp1 = aqf.WienerProcess()\n",
    "abm1 = aqf.ArithmeticBM(wp1)\n",
    "\n",
    "val = wp1.time_vector()\n",
    "\n",
    "#Creates widget containing a figure\n",
    "fig1 = go.FigureWidget()\n",
    "#Adds three different scatter plots\n",
    "fig1.add_scatter(x= val, y = abm1.path(),name='Generalized Wiener process')\n",
    "fig1.add_scatter(x= val, y = 1*val, name = 'Drift')\n",
    "fig1.add_scatter(x= val, y = wp1.path(),name='Standard Wiener process')\n",
    "\n",
    "#Slider and Value box to move drift term\n",
    "driftSlide = widgets.FloatSlider(value = 0., min=-5, max=5, step=0.1, description='Drift: ', disabled=False,\n",
    "    continuous_update=False, orientation='horizontal', readout=False, readout_format='.2p', layout=layout, style=style)\n",
    "driftVal = widgets.FloatText(value = 0., step= 0.01,disabled = False)\n",
    "drift = widgets.Box([driftSlide, driftVal])\n",
    "driftLink = widgets.jslink((driftSlide,'value'),(driftVal, 'value'))\n",
    "\n",
    "#Slider and Value box to move diffusion term\n",
    "volaSlide = widgets.FloatSlider(value = 1, min=0, max=30, step=0.1, description='Diffusion: ', disabled=False,\n",
    "    continuous_update=False, orientation='horizontal', readout=False, readout_format='.2f', layout=layout, style=style)\n",
    "volaVal = widgets.FloatText(value = 1, step= 0.1,disabled = False)\n",
    "vola = widgets.Box([volaSlide,volaVal])\n",
    "volaLink = widgets.jslink((volaSlide,'value'), (volaVal, 'value'))\n",
    "\n",
    "#Button to generate new Wiener process\n",
    "wp1_btn = widgets.Button(description='New Wiener process')\n",
    "#Button to restore default values\n",
    "reset = widgets.Button(description='Restore values')\n",
    "\n",
    "button_box= widgets.HBox([wp1_btn,reset])\n",
    "box= widgets.VBox([drift,vola,button_box])\n",
    "\n",
    "def on_reset_click(change):\n",
    "    volaSlide.value=1\n",
    "    driftSlide.value=0.\n",
    "    return\n",
    "\n",
    "def on_wp1_click(change):\n",
    "    wp1.new_path()\n",
    "    abm1 = aqf.ArithmeticBM(wp1)\n",
    "    f(0,1)\n",
    "    on_reset_click(change)\n",
    "    return\n",
    "    \n",
    "wp1_btn.on_click(on_wp1_click)\n",
    "\n",
    "reset.on_click(on_reset_click)\n",
    "\n",
    "def f(driftVal,volaVal):\n",
    "            \n",
    "    with fig1.batch_update():\n",
    "        fig1.data[0].y = abm1.new_path(0.,driftVal,volaVal)\n",
    "        fig1.data[1].y = driftVal*val\n",
    "        fig1.data[2].y = wp1.path()\n",
    "\n",
    "out = widgets.interactive_output(f, { 'driftVal': driftVal, 'volaVal': volaVal})\n",
    "\n",
    "#Sets figure title and axis \n",
    "fig1.layout.title={'text':'Generalized Wiener process for different drift and diffusion terms','font':{'size': 25},'x':.5,'xanchor':'center'}\n",
    "fig1.layout.yaxis={'fixedrange': False, 'title': 'Value of variable X(t)','titlefont':{'size': 20}, 'hoverformat':',.2f'}\n",
    "fig1.layout.xaxis={'range':[0,1],'title': 'Time', 'tick0':0, 'dtick':1, 'titlefont':{'size': 20}}\n",
    "fig1.layout.showlegend = True\n",
    "fig1.update_layout(legend={'orientation':'h'})\n",
    "fig1.layout.height = 650"
   ]
  },
  {
   "cell_type": "code",
   "execution_count": null,
   "metadata": {
    "slideshow": {
     "slide_type": "slide"
    }
   },
   "outputs": [],
   "source": [
    "#Displays Generalized Wiener process for different drift and diffusion\n",
    "display(box, out, fig1)"
   ]
  },
  {
   "cell_type": "code",
   "execution_count": null,
   "metadata": {
    "slideshow": {
     "slide_type": "skip"
    }
   },
   "outputs": [],
   "source": [
    "layout = widgets.Layout(width='98%', height='50px')\n",
    "style = {'description_width': 'initial'}\n",
    "\n",
    "x_0 = 2\n",
    "\n",
    "wp2 = aqf.WienerProcess()\n",
    "abm2 = aqf.ArithmeticBM(wp2,x_0)\n",
    "gbm2 = aqf.GeometricBM(wp2,x_0)\n",
    "\n",
    "val = wp2.time_vector()\n",
    "\n",
    "#Creates widget containing a figure\n",
    "fig2 = go.FigureWidget()\n",
    "#Adds three different scatter plots\n",
    "fig2.add_scatter(x= val, y = wp2.path(),name='Wiener process', line=dict(color='turquoise'))\n",
    "fig2.add_scatter(x= val, y = abm2.path(),name='Arithmetich BM', line=dict(color='steelblue'))\n",
    "fig2.add_scatter(x= val, y = gbm2.path(), name='Geometric BM', line=dict(color='crimson'))\n",
    "fig2.add_scatter(x= val, y = 1*val +1, name= '$f(t) = \\mu \\cdot t + s_0$', line=dict(color='steelblue', dash='dot'))\n",
    "fig2.add_scatter(x= val, y = np.exp(val), name = '$f(t)= e^{\\mu \\cdot t}$', line=dict(color='crimson',dash = 'dot'))\n",
    "\n",
    "#Slider and Value box to move drift term\n",
    "driftSlide = widgets.FloatSlider(value = 0., min=-5, max=5, step=0.1, description='$\\mu$ : ', disabled=False,\n",
    "    continuous_update=False, orientation='horizontal', readout=False, readout_format='.2p', layout=layout, style=style)\n",
    "driftVal = widgets.FloatText(value = 0., step= 0.01,disabled = False)\n",
    "drift = widgets.Box([driftSlide, driftVal])\n",
    "driftLink = widgets.jslink((driftSlide,'value'),(driftVal, 'value'))\n",
    "\n",
    "#Slider and Value box to move diffusion term\n",
    "volaSlide = widgets.FloatSlider(value = 1, min=0, max=30, step=0.1, description='$\\sigma$ : ', disabled=False,\n",
    "    continuous_update=False, orientation='horizontal', readout=False, readout_format='.2f', layout=layout, style=style)\n",
    "volaVal = widgets.FloatText(value = 1, step= 0.1,disabled = False)\n",
    "vola = widgets.Box([volaSlide,volaVal])\n",
    "volaLink = widgets.jslink((volaSlide,'value'), (volaVal, 'value'))\n",
    "\n",
    "#Button to generate new Wiener process\n",
    "wp2_btn = widgets.Button(description='New Wiener Process')\n",
    "#Button to restore default values\n",
    "reset = widgets.Button(description='Restore values')\n",
    "\n",
    "button_box= widgets.HBox([wp2_btn,reset])\n",
    "box= widgets.VBox([drift,vola,button_box])\n",
    "\n",
    "def on_reset_click(change):\n",
    "    volaSlide.value=1\n",
    "    driftSlide.value=0.\n",
    "    return\n",
    "\n",
    "def on_wp2_click(change):\n",
    "    wp2.new_path()\n",
    "    abm2 = aqf.ArithmeticBM(wp2,1.)\n",
    "    gbm2 = aqf.GeometricBM(wp2,1.)\n",
    "    f(0,1)\n",
    "    on_reset_click(change)\n",
    "    return\n",
    "    \n",
    "wp2_btn.on_click(on_wp2_click)\n",
    "\n",
    "reset.on_click(on_reset_click)\n",
    "\n",
    "def f(driftVal,volaVal):\n",
    "            \n",
    "    with fig2.batch_update():\n",
    "        fig2.data[0].y = wp2.path()\n",
    "        fig2.data[1].y = abm2.new_path(x_0,driftVal,volaVal)\n",
    "        fig2.data[2].y = gbm2.new_path(x_0,driftVal,volaVal)\n",
    "        fig2.data[3].y = driftVal*val + x_0\n",
    "        fig2.data[4].y = x_0*np.exp(driftVal*val)\n",
    "\n",
    "out = widgets.interactive_output(f, { 'driftVal': driftVal, 'volaVal': volaVal})\n",
    "\n",
    "#Sets figure title and axis \n",
    "fig2.layout.title={'text':'Arithmetic vs Geometric Brownian Motion','font':{'size': 25},'x':.5,'xanchor':'center'}\n",
    "fig2.layout.yaxis={'fixedrange': False, 'title': 'Value of variable x','titlefont':{'size': 20}, 'hoverformat':',.2f'}\n",
    "fig2.layout.xaxis={'range':[0,1],'title': 'Time', 'tick0':0, 'dtick':1, 'titlefont':{'size': 20}}\n",
    "fig2.layout.showlegend = True\n",
    "fig2.update_layout(legend={'orientation':'h'})\n",
    "fig2.layout.height = 600"
   ]
  },
  {
   "cell_type": "code",
   "execution_count": null,
   "metadata": {
    "slideshow": {
     "slide_type": "slide"
    }
   },
   "outputs": [],
   "source": [
    "#Displays Arithmetic vs Geometric Brownian Motion\n",
    "display(box, out, fig2)"
   ]
  },
  {
   "cell_type": "code",
   "execution_count": null,
   "metadata": {
    "slideshow": {
     "slide_type": "skip"
    }
   },
   "outputs": [],
   "source": [
    "layout = widgets.Layout(width='98%', height='50px')\n",
    "style = {'description_width': 'initial'}\n",
    "x_0 = .005\n",
    "wp3 = aqf.WienerProcess()\n",
    "times = wp3.time_vector()\n",
    "v = aqf.Vasicek(wp3,x_0)\n",
    "cir = aqf.CIR(wp3,x_0)\n",
    "mean = v.x_0()*np.exp(-v.k()*times)+v.theta()*(1-np.exp(-v.k()*times))\n",
    "\n",
    "#Creates widget containing a figure\n",
    "fig3 = go.FigureWidget()\n",
    "#Adds three different scatter plots\n",
    "fig3.add_scatter(x= val, y = v.path(),name='Vasicek', line=dict(color='steelblue'))\n",
    "fig3.add_scatter(x= val, y = cir.path(), name='CIR', line=dict(color='crimson'))\n",
    "fig3.add_scatter(x= val, y = v.theta()*np.ones(v.wp().steps()), name =r'$\\theta$', line=dict(color='turquoise'))\n",
    "fig3.add_scatter(x= val, y = mean, name = 'Mean', line=dict(color='turquoise', dash='dot'))\n",
    "\n",
    "#Slider and Value box to move speed term\n",
    "speedSlide = widgets.FloatSlider(value = 2., min=-5, max=5, step=0.5, description='$\\kappa$ : ', disabled=False,\n",
    "    continuous_update=False, orientation='horizontal', readout=False, readout_format='.1f', layout=layout, style=style)\n",
    "speedVal = widgets.FloatText(value = 2., step= 0.5,disabled = False)\n",
    "speed = widgets.Box([speedSlide, speedVal])\n",
    "speedLink = widgets.jslink((speedSlide,'value'),(speedVal, 'value'))\n",
    "\n",
    "#Slider and Value box to move level term\n",
    "levelSlide = widgets.FloatSlider(value = .03, min=.01, max=.1, step=.005, description='$\\\\theta$ : ', disabled=False,\n",
    "    continuous_update=False, orientation='horizontal', readout=False, readout_format='.2p', layout=layout, style=style)\n",
    "levelVal = widgets.FloatText(value = .03, step= .005,disabled = False)\n",
    "level = widgets.Box([levelSlide,levelVal])\n",
    "levelLink = widgets.jslink((levelSlide,'value'), (levelVal, 'value'))\n",
    "\n",
    "#Slider and Value box to move diffusion term\n",
    "volaSlide = widgets.FloatSlider(value = .04, min=0, max=1, step=.005, description='$\\sigma$ : ', disabled=False,\n",
    "    continuous_update=False, orientation='horizontal', readout=False, readout_format='.2p', layout=layout, style=style)\n",
    "volaVal = widgets.FloatText(value = .04, step= 0.005,disabled = False)\n",
    "vola = widgets.Box([volaSlide,volaVal])\n",
    "volaLink = widgets.jslink((volaSlide,'value'), (volaVal, 'value'))\n",
    "\n",
    "#Button to generate new Wiener process\n",
    "wp3_btn = widgets.Button(description='New Wiener Process')\n",
    "#Button to restore default values\n",
    "reset = widgets.Button(description='Restore values')\n",
    "\n",
    "button_box= widgets.HBox([wp3_btn,reset])\n",
    "box= widgets.VBox([speed,level,vola,button_box])\n",
    "\n",
    "def on_reset_click(change):\n",
    "    speedSlide.value=2.\n",
    "    levelSlide.value=.03\n",
    "    volaSlide.value=.04\n",
    "    return\n",
    "\n",
    "def on_wp3_click(change):\n",
    "    wp3.new_path()\n",
    "    v = aqf.Vasicek(wp3)\n",
    "    cir = aqf.CIR(wp3)\n",
    "    f(2,.03,.04)\n",
    "    on_reset_click(change)\n",
    "    return\n",
    "    \n",
    "wp3_btn.on_click(on_wp3_click)\n",
    "\n",
    "reset.on_click(on_reset_click)\n",
    "\n",
    "def f(speedVal,levelVal,volaVal):\n",
    "    with fig3.batch_update():\n",
    "        mean = v.x_0()*np.exp(-v.k()*times)+v.theta()*(1-np.exp(-v.k()*times))\n",
    "        fig3.data[0].y = v.new_path(x_0,levelVal,speedVal,volaVal)\n",
    "        fig3.data[1].y = cir.new_path(x_0,levelVal,speedVal,volaVal)\n",
    "        fig3.data[2].y = v.theta()*np.ones(v.wp().steps())\n",
    "        fig3.data[3].y = mean\n",
    "\n",
    "out = widgets.interactive_output(f, { 'speedVal': speedVal, 'levelVal': levelVal, 'volaVal': volaVal})\n",
    "\n",
    "#Sets figure title and axis \n",
    "fig3.layout.title={'text':'Vasicek vs CIR model','font':{'size': 25},'x':.5,'xanchor':'center'}\n",
    "fig3.layout.yaxis={'fixedrange': False, 'title': 'Value of variable x','titlefont':{'size': 20}, 'hoverformat':',.2f'}\n",
    "fig3.layout.xaxis={'range':[0,1],'title': 'Time', 'tick0':0, 'dtick':1, 'titlefont':{'size': 20}}\n",
    "fig3.layout.showlegend = True\n",
    "fig3.update_layout(legend={'orientation':'h'})\n",
    "fig3.layout.yaxis = {'range': [-0.01,0.07],'tickformat':'.2p', 'hoverformat':'.4p'}\n",
    "fig3.layout.xaxis = {'tickformat':'.1f', 'hoverformat':'.2f'}\n",
    "fig3.layout.height = 600"
   ]
  },
  {
   "cell_type": "code",
   "execution_count": null,
   "metadata": {
    "slideshow": {
     "slide_type": "slide"
    }
   },
   "outputs": [],
   "source": [
    "#Displays Vasicek vs CIR model\n",
    "display(box, out, fig3)"
   ]
  },
  {
   "cell_type": "code",
   "execution_count": null,
   "metadata": {
    "slideshow": {
     "slide_type": "skip"
    }
   },
   "outputs": [],
   "source": [
    "q = aqf.WienerProcess()\n",
    "x_0 = .005\n",
    "v = aqf.Vasicek(q,x_0,1,1,2)\n",
    "cir = aqf.CIR(q,x_0,1,1,2)\n",
    "time = v.wp().time_vector()\n",
    "mean = v.x_0()*np.exp(-v.k()*time)+v.theta()*(1-np.exp(-v.k()*time))\n",
    "r = go.FigureWidget()\n",
    "r.add_trace(go.Scatter(x=time, y=v.theta()*np.ones(v.wp().steps()), name='Theta',line=dict(color='turquoise')))\n",
    "r.add_trace(go.Scatter(x=time, y=v.path(), name ='Vasicek',line=dict(color='steelblue')))\n",
    "r.add_trace(go.Scatter(x=time, y=cir.path(), name ='CIR',line=dict(color='tomato')))\n",
    "r.add_trace(go.Scatter(x=time, y=mean, name='Mean',line=dict(color='turquoise', dash='dot')))\n",
    "r.layout.title={'text':'Vasicek vs CIR model: negative values','font':{'size': 25},'x':.5,'xanchor':'center'}\n",
    "r.layout.yaxis = {'tickformat':'.2p', 'hoverformat':'.4p'}\n",
    "r.layout.xaxis = {'tickformat':'.1f', 'hoverformat':'.2f'}\n",
    "r.layout.height = 600"
   ]
  },
  {
   "cell_type": "code",
   "execution_count": null,
   "metadata": {
    "slideshow": {
     "slide_type": "slide"
    }
   },
   "outputs": [],
   "source": [
    "#Displays what happens with negative values\n",
    "r.show()"
   ]
  }
 ],
 "metadata": {
  "celltoolbar": "Slideshow",
  "kernelspec": {
   "display_name": "Python 3 (ipykernel)",
   "language": "python",
   "name": "python3"
  },
  "language_info": {
   "codemirror_mode": {
    "name": "ipython",
    "version": 3
   },
   "file_extension": ".py",
   "mimetype": "text/x-python",
   "name": "python",
   "nbconvert_exporter": "python",
   "pygments_lexer": "ipython3",
   "version": "3.11.5"
  }
 },
 "nbformat": 4,
 "nbformat_minor": 4
}
