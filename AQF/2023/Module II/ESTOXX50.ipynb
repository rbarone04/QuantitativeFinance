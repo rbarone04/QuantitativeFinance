{
 "cells": [
  {
   "cell_type": "markdown",
   "id": "fe61ca55-8465-4d05-8183-9e6617587b95",
   "metadata": {},
   "source": [
    "![cover](./img/cover.png)"
   ]
  },
  {
   "cell_type": "code",
   "execution_count": null,
   "id": "9fb26e80",
   "metadata": {},
   "outputs": [],
   "source": [
    "import pandas as pd\n",
    "import plotly.graph_objs as go\n",
    "import numpy as np"
   ]
  },
  {
   "cell_type": "code",
   "execution_count": null,
   "id": "f07c04a0",
   "metadata": {},
   "outputs": [],
   "source": [
    "estoxx = pd.read_csv('input/E-STOXX50.csv', sep=';')"
   ]
  },
  {
   "cell_type": "code",
   "execution_count": null,
   "id": "0a1ce638",
   "metadata": {},
   "outputs": [],
   "source": [
    "estoxx.tail(10)"
   ]
  },
  {
   "cell_type": "code",
   "execution_count": null,
   "id": "5dc4aebc",
   "metadata": {},
   "outputs": [],
   "source": [
    "Y = [float(i) for i in estoxx['Strikes'].values]\n",
    "X = [float(i) for i in estoxx.columns[1:]]\n",
    "Z = estoxx.iloc[:,1:].values\n",
    "contours = {\"x\": {\"show\": True},\n",
    "            \"y\": {\"show\": True}}\n",
    "f = go.Figure(data=go.Surface(z=Z,x=X,y=Y, surfacecolor=Z,colorscale='Jet',cmin=-.1,cmax=1, contours=contours))\n",
    "f.update_layout(title=dict(text='EUROSTOXX 50 volatility surface',x=0.5,xanchor='center'),\n",
    "                autosize=True,width=1200, height=700,\n",
    "                scene=dict(xaxis=dict(title='Time to exercise',tickformat='.1f',hoverformat='.2f',showline=False,autorange='reversed'),\n",
    "                           yaxis=dict(title='Strikes',hoverformat='.2f',showline=False,range=[0,5000]),\n",
    "                           zaxis=dict(title='Volatility',tickformat='.1p',hoverformat='.4p',showline=False),))\n",
    "f.show()"
   ]
  }
 ],
 "metadata": {
  "kernelspec": {
   "display_name": "Python 3 (ipykernel)",
   "language": "python",
   "name": "python3"
  },
  "language_info": {
   "codemirror_mode": {
    "name": "ipython",
    "version": 3
   },
   "file_extension": ".py",
   "mimetype": "text/x-python",
   "name": "python",
   "nbconvert_exporter": "python",
   "pygments_lexer": "ipython3",
   "version": "3.11.5"
  }
 },
 "nbformat": 4,
 "nbformat_minor": 5
}
