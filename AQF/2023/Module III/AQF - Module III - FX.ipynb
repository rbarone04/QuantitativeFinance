{
 "cells": [
  {
   "cell_type": "markdown",
   "metadata": {},
   "source": [
    "![cover](./img/slide1.png)"
   ]
  },
  {
   "cell_type": "code",
   "execution_count": null,
   "metadata": {},
   "outputs": [],
   "source": [
    "import numpy as np\n",
    "import pandas as pd\n",
    "import scipy as sp\n",
    "\n",
    "import plotly.offline as po\n",
    "import plotly.graph_objs as go\n",
    "\n",
    "\n",
    "import ipywidgets as widgets\n",
    "from ipywidgets import interact\n",
    "\n",
    "from ipywidgets.embed import embed_minimal_html\n",
    "\n",
    "\n",
    "po.init_notebook_mode(connected=True)"
   ]
  },
  {
   "cell_type": "code",
   "execution_count": null,
   "metadata": {},
   "outputs": [],
   "source": [
    "def call_put_vol(atm_vol,fly25_vol,rr25_vol):\n",
    "    put_25 = (atm_vol+fly25_vol-(0.5*rr25_vol))/100\n",
    "    atm = (atm_vol)/100\n",
    "    call_25 = (atm_vol+fly25_vol+(0.5*rr25_vol))/100\n",
    "       \n",
    "    return [25,50,75],[call_25,atm,put_25]\n",
    "    \n",
    "def interpolate(X,Y):\n",
    "    return sp.interpolate.interp1d(X,Y, kind='quadratic')"
   ]
  },
  {
   "cell_type": "markdown",
   "metadata": {},
   "source": [
    "### <center>Compute call / put volatility</center>\n",
    "$$ \\begin{cases} \\sigma_{nP} = \\sigma_{ATM} + \\sigma_{nFLY} - \\frac{1}{2}\\sigma_{nRR}\\\\\n",
    "\\sigma_{nC} = \\sigma_{ATM} + \\sigma_{nFLY} + \\frac{1}{2}\\sigma_{nRR}\\\\\n",
    "\\sigma_{ATM} = \\sigma_{ATM}\n",
    "\\end{cases}$$"
   ]
  },
  {
   "cell_type": "code",
   "execution_count": null,
   "metadata": {},
   "outputs": [],
   "source": [
    "layout = widgets.Layout(width='98%', height='50px')\n",
    "style = {'description_width': 'initial'}\n",
    "\n",
    "X,Y = call_put_vol(7.25,0.25,0.15)\n",
    "x1 = np.linspace(25,75)\n",
    "interp = interpolate(X,Y)\n",
    "y1 = interp(x1)\n",
    "\n",
    "#Creates widget containing a figure\n",
    "fig1 = go.FigureWidget()\n",
    "#Adds three different scatter plots\n",
    "fig1.add_scatter(x= X, y = Y, name='Quoted volatilities',mode = 'markers',marker=dict(size=8,color='turquoise'))\n",
    "fig1.add_scatter(x= x1, y = y1, name='Quoted volatilities', line=dict(color='turquoise', dash='dot'),showlegend=False)\n",
    "\n",
    "fig1.add_scatter(x= X, y = Y, name='Mod. volatilities',mode = 'markers',marker=dict(size=8,color='steelblue'))\n",
    "fig1.add_scatter(x= x1, y = y1, name='Mod. volatilities', line=dict(color='steelblue'),showlegend=False)\n",
    "\n",
    "\n",
    "#Slider and Value box to move drift term\n",
    "atmSlide = widgets.FloatSlider(value = 7.25, min=0, max=10, step=0.05, description='ATM: ', disabled=False,\n",
    "    continuous_update=False, orientation='horizontal', readout=False, readout_format='.2f', layout=layout, style=style)\n",
    "atmVal = widgets.FloatText(value = 0., step= 0.01,disabled = False)\n",
    "atm = widgets.Box([atmSlide, atmVal])\n",
    "atmLink = widgets.jslink((atmSlide,'value'),(atmVal, 'value'))\n",
    "\n",
    "#Slider and Value box to move diffusion term\n",
    "flySlide = widgets.FloatSlider(value = 0.25, min=0, max=1, step=0.05, description='25D FLY: ', disabled=False,\n",
    "    continuous_update=False, orientation='horizontal', readout=False, readout_format='.2f', layout=layout, style=style)\n",
    "flyVal = widgets.FloatText(value = 0.25, step= 0.05,disabled = False)\n",
    "fly = widgets.Box([flySlide,flyVal])\n",
    "flyLink = widgets.jslink((flySlide,'value'), (flyVal, 'value'))\n",
    "\n",
    "#Slider and Value box to move diffusion term\n",
    "rrSlide = widgets.FloatSlider(value = 0.15, min=0, max=1, step=0.05, description='25D RR: ', disabled=False,\n",
    "    continuous_update=False, orientation='horizontal', readout=False, readout_format='.2f', layout=layout, style=style)\n",
    "rrVal = widgets.FloatText(value = 0.15, step= 0.051,disabled = False)\n",
    "rr = widgets.Box([rrSlide,rrVal])\n",
    "rrLink = widgets.jslink((rrSlide,'value'), (rrVal, 'value'))\n",
    "\n",
    "#Button to restore default values\n",
    "reset = widgets.Button(description='Restore values')\n",
    "\n",
    "button_box= widgets.HBox([reset])\n",
    "box= widgets.VBox([atm,fly,rr,button_box])\n",
    "\n",
    "def on_reset_click(change):\n",
    "    flySlide.value=0.25\n",
    "    rrSlide.value=0.15\n",
    "    atmSlide.value=7.25\n",
    "    return\n",
    "\n",
    "reset.on_click(on_reset_click)\n",
    "\n",
    "def f(atmVal,flyVal,rrVal):\n",
    "            \n",
    "    with fig1.batch_update():\n",
    "        X1,Y1 = call_put_vol(atmVal,flyVal,rrVal)\n",
    "        x2 = np.linspace(25,75)\n",
    "        interp = interpolate(X1,Y1)\n",
    "        fig1.data[2].y = Y1\n",
    "        fig1.data[3].y = interp(x2)\n",
    "\n",
    "out = widgets.interactive_output(f, { 'atmVal': atmVal, 'flyVal': flyVal,'rrVal': rrVal})\n",
    "\n",
    "#Sets figure title and axis \n",
    "fig1.layout.title={'text':'FX Call & Put volatility','font':{'size': 25},'x':.5,'xanchor':'center'}\n",
    "fig1.layout.yaxis={'fixedrange': False,'range':[.07,.08], 'title': 'Volatility','titlefont':{'size': 20},'tickformat':'.3p', 'hoverformat':',.5p'}\n",
    "fig1.layout.xaxis={'title': 'Delta', 'tick0':0, 'titlefont':{'size': 20}}\n",
    "fig1.layout.showlegend = True\n",
    "fig1.update_layout(legend={'orientation':'h'})\n",
    "fig1.layout.height = 650"
   ]
  },
  {
   "cell_type": "code",
   "execution_count": null,
   "metadata": {},
   "outputs": [],
   "source": [
    "display(box, out, fig1)"
   ]
  }
 ],
 "metadata": {
  "kernelspec": {
   "display_name": "Python 3 (ipykernel)",
   "language": "python",
   "name": "python3"
  },
  "language_info": {
   "codemirror_mode": {
    "name": "ipython",
    "version": 3
   },
   "file_extension": ".py",
   "mimetype": "text/x-python",
   "name": "python",
   "nbconvert_exporter": "python",
   "pygments_lexer": "ipython3",
   "version": "3.11.5"
  }
 },
 "nbformat": 4,
 "nbformat_minor": 4
}
