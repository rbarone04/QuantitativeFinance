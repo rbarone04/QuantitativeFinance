{
 "cells": [
  {
   "cell_type": "markdown",
   "metadata": {
    "slideshow": {
     "slide_type": "slide"
    }
   },
   "source": [
    "![cover](./img/cover.png)"
   ]
  },
  {
   "cell_type": "code",
   "execution_count": 1,
   "metadata": {
    "slideshow": {
     "slide_type": "skip"
    }
   },
   "outputs": [
    {
     "data": {
      "text/html": [
       "        <script type=\"text/javascript\">\n",
       "        window.PlotlyConfig = {MathJaxConfig: 'local'};\n",
       "        if (window.MathJax) {MathJax.Hub.Config({SVG: {font: \"STIX-Web\"}});}\n",
       "        if (typeof require !== 'undefined') {\n",
       "        require.undef(\"plotly\");\n",
       "        requirejs.config({\n",
       "            paths: {\n",
       "                'plotly': ['https://cdn.plot.ly/plotly-latest.min']\n",
       "            }\n",
       "        });\n",
       "        require(['plotly'], function(Plotly) {\n",
       "            window._Plotly = Plotly;\n",
       "        });\n",
       "        }\n",
       "        </script>\n",
       "        "
      ]
     },
     "metadata": {},
     "output_type": "display_data"
    }
   ],
   "source": [
    "#IMPORTING VERY COMMON AND USEFULL PACKAGES\n",
    "import numpy as np\n",
    "import pandas as pd\n",
    "import datetime as dt\n",
    "import xlrd\n",
    "\n",
    "#OPTIMIZING\n",
    "import scipy.optimize as so\n",
    "\n",
    "#CHARTING\n",
    "import plotly\n",
    "import chart_studio.plotly as py\n",
    "import plotly.offline as po\n",
    "import plotly.graph_objs as go\n",
    "\n",
    "#WIDGETING\n",
    "import ipywidgets as widgets\n",
    "from ipywidgets import interact\n",
    "from ipywidgets.embed import embed_minimal_html\n",
    "\n",
    "#INITIALIZING NOTEBOOK MODE\n",
    "po.init_notebook_mode(connected=True)"
   ]
  },
  {
   "cell_type": "code",
   "execution_count": 2,
   "metadata": {
    "slideshow": {
     "slide_type": "skip"
    }
   },
   "outputs": [],
   "source": [
    "#Definig a function that convert dates from Excel formats\n",
    "def xl2date(excel_date):\n",
    "    if isinstance(excel_date, int):\n",
    "        return dt.datetime(*xlrd.xldate_as_tuple(excel_date,0))\n",
    "    elif isinstance(excel_date,pd.Series) or isinstance(excel_date, list):\n",
    "        dates = [dt.datetime(*xlrd.xldate_as_tuple(date,0)) for date in excel_date]\n",
    "        return dates      \n",
    "\n",
    "# Defining a function that compute the bond price for a given YtM\n",
    "def bond_price(ytm, face_value, time_to_expiry, annual_rate, pay_frequency=2):\n",
    "    freq = float(pay_frequency)\n",
    "    periods = time_to_expiry*freq\n",
    "    coupon = face_value * ( annual_rate/freq)\n",
    "    dt = [(1+i)/freq for i in range(int(periods))]\n",
    "    return sum([coupon/(1+ytm)**t for t in dt]) + face_Value/(1+ytm)**(dt[-1])\n",
    "\n",
    "#Defining a function that compute the bond Yield to Maturity for a given market price\n",
    "def bond_ytm(price, face_value, time_to_expiry, annual_rate, pay_frequency=2, guess = 0.05):\n",
    "    freq = float(pay_frequency)\n",
    "    periods = time_to_expiry*freq\n",
    "    coupon = face_value * ( annual_rate/freq)\n",
    "    dt = [(1+i)/freq for i in range(int(periods))]\n",
    "    \n",
    "    ytm_func = lambda y : sum([coupon/(1+y)**(t) for t in dt]) + face_value/(1+y)**(dt[-1]) - price\n",
    "    \n",
    "    return so.newton(ytm_func, guess)"
   ]
  },
  {
   "cell_type": "markdown",
   "metadata": {
    "slideshow": {
     "slide_type": "slide"
    }
   },
   "source": [
    "### <center>Yield-to-Maturity</center>\n",
    "The **Yield-to-Maturity** (**YtM**) is the theoretical **internal rate of return** earned by an investor who buys the bond today at the market price.\n",
    "It is defined as the **constant discount rate** at which the sum of all future cash flows from the bond is equal to the current price of the bond."
   ]
  },
  {
   "cell_type": "markdown",
   "metadata": {
    "slideshow": {
     "slide_type": "fragment"
    }
   },
   "source": [
    "$$ P^{MKT} (t) = \\sum_{i=1}^N \\frac{CashFlow (T_i)}{\\left(1+y \\right)^{T_i -t}} = \\sum_{i=1}^N \\frac{FaceValue \\cdot CouponRate \\cdot (T_i -T_{i-1})}{\\left(1+y \\right)^{T_i -t}} + \\frac{FaceValue}{\\left(1+y \\right)^{T_N -t}}$$"
   ]
  },
  {
   "cell_type": "code",
   "execution_count": 3,
   "metadata": {
    "scrolled": false,
    "slideshow": {
     "slide_type": "skip"
    }
   },
   "outputs": [],
   "source": [
    "btp = pd.read_csv('btp_italia.csv', sep='|')\n",
    "btp['Maturity'] = xl2date(btp['Maturity'])\n",
    "btp_italia = pd.DataFrame()\n",
    "btp_italia['ISIN']=btp['ISIN']\n",
    "btp_italia['Description']=btp['Description']\n",
    "btp_italia['Maturity']=btp['Maturity']\n",
    "btp_italia['Rate']=btp['Rate']\n",
    "btp_italia['PayFrequency']=btp['PayFrequency']\n",
    "btp_italia['Price']=btp['Price']"
   ]
  },
  {
   "cell_type": "code",
   "execution_count": 4,
   "metadata": {
    "slideshow": {
     "slide_type": "slide"
    }
   },
   "outputs": [
    {
     "data": {
      "text/html": [
       "<div>\n",
       "<style scoped>\n",
       "    .dataframe tbody tr th:only-of-type {\n",
       "        vertical-align: middle;\n",
       "    }\n",
       "\n",
       "    .dataframe tbody tr th {\n",
       "        vertical-align: top;\n",
       "    }\n",
       "\n",
       "    .dataframe thead th {\n",
       "        text-align: right;\n",
       "    }\n",
       "</style>\n",
       "<table border=\"1\" class=\"dataframe\">\n",
       "  <thead>\n",
       "    <tr style=\"text-align: right;\">\n",
       "      <th></th>\n",
       "      <th>ISIN</th>\n",
       "      <th>Description</th>\n",
       "      <th>Maturity</th>\n",
       "      <th>Rate</th>\n",
       "      <th>PayFrequency</th>\n",
       "      <th>Price</th>\n",
       "    </tr>\n",
       "  </thead>\n",
       "  <tbody>\n",
       "    <tr>\n",
       "      <th>0</th>\n",
       "      <td>IT0004536949</td>\n",
       "      <td>BTP Mar-20, 4.25</td>\n",
       "      <td>2020-03-01</td>\n",
       "      <td>0.0425</td>\n",
       "      <td>2</td>\n",
       "      <td>100.2180</td>\n",
       "    </tr>\n",
       "    <tr>\n",
       "      <th>1</th>\n",
       "      <td>IT0005107708</td>\n",
       "      <td>BTP May-20, 0.7</td>\n",
       "      <td>2020-05-01</td>\n",
       "      <td>0.0070</td>\n",
       "      <td>2</td>\n",
       "      <td>100.2295</td>\n",
       "    </tr>\n",
       "    <tr>\n",
       "      <th>2</th>\n",
       "      <td>IT0005250946</td>\n",
       "      <td>BTP Jun-20, 0.35</td>\n",
       "      <td>2020-06-15</td>\n",
       "      <td>0.0035</td>\n",
       "      <td>2</td>\n",
       "      <td>100.2385</td>\n",
       "    </tr>\n",
       "    <tr>\n",
       "      <th>3</th>\n",
       "      <td>IT0004594930</td>\n",
       "      <td>BTP Sep-20, 4</td>\n",
       "      <td>2020-09-01</td>\n",
       "      <td>0.0400</td>\n",
       "      <td>2</td>\n",
       "      <td>102.3805</td>\n",
       "    </tr>\n",
       "    <tr>\n",
       "      <th>4</th>\n",
       "      <td>IT0005285041</td>\n",
       "      <td>BTP Oct-20, 0.2</td>\n",
       "      <td>2020-10-15</td>\n",
       "      <td>0.0020</td>\n",
       "      <td>2</td>\n",
       "      <td>100.3705</td>\n",
       "    </tr>\n",
       "    <tr>\n",
       "      <th>5</th>\n",
       "      <td>IT0005142143</td>\n",
       "      <td>BTP Nov-20, 0.65</td>\n",
       "      <td>2020-11-01</td>\n",
       "      <td>0.0065</td>\n",
       "      <td>2</td>\n",
       "      <td>100.7190</td>\n",
       "    </tr>\n",
       "    <tr>\n",
       "      <th>6</th>\n",
       "      <td>IT0004634132</td>\n",
       "      <td>BTP Mar-21, 3.75</td>\n",
       "      <td>2021-03-01</td>\n",
       "      <td>0.0375</td>\n",
       "      <td>2</td>\n",
       "      <td>104.2660</td>\n",
       "    </tr>\n",
       "    <tr>\n",
       "      <th>7</th>\n",
       "      <td>IT0005330961</td>\n",
       "      <td>BTP Apr-21, 0.05</td>\n",
       "      <td>2021-04-15</td>\n",
       "      <td>0.0005</td>\n",
       "      <td>2</td>\n",
       "      <td>100.3770</td>\n",
       "    </tr>\n",
       "    <tr>\n",
       "      <th>8</th>\n",
       "      <td>IT0004966401</td>\n",
       "      <td>BTP May-21, 3.75</td>\n",
       "      <td>2021-05-01</td>\n",
       "      <td>0.0375</td>\n",
       "      <td>2</td>\n",
       "      <td>104.8930</td>\n",
       "    </tr>\n",
       "    <tr>\n",
       "      <th>9</th>\n",
       "      <td>IT0005175598</td>\n",
       "      <td>BTP Jun-21, 0.45</td>\n",
       "      <td>2021-06-01</td>\n",
       "      <td>0.0045</td>\n",
       "      <td>2</td>\n",
       "      <td>100.9240</td>\n",
       "    </tr>\n",
       "    <tr>\n",
       "      <th>10</th>\n",
       "      <td>IT0004009673</td>\n",
       "      <td>BTP Aug-21, 3.75</td>\n",
       "      <td>2021-08-01</td>\n",
       "      <td>0.0375</td>\n",
       "      <td>2</td>\n",
       "      <td>105.8750</td>\n",
       "    </tr>\n",
       "    <tr>\n",
       "      <th>11</th>\n",
       "      <td>IT0004695075</td>\n",
       "      <td>BTP Sep-21, 4.75</td>\n",
       "      <td>2021-09-01</td>\n",
       "      <td>0.0475</td>\n",
       "      <td>2</td>\n",
       "      <td>107.7295</td>\n",
       "    </tr>\n",
       "    <tr>\n",
       "      <th>12</th>\n",
       "      <td>IT0005348443</td>\n",
       "      <td>BTP Oct-21, 2.3</td>\n",
       "      <td>2021-10-15</td>\n",
       "      <td>0.0230</td>\n",
       "      <td>2</td>\n",
       "      <td>104.2015</td>\n",
       "    </tr>\n",
       "    <tr>\n",
       "      <th>13</th>\n",
       "      <td>IT0005216491</td>\n",
       "      <td>BTP Nov-21, 0.35</td>\n",
       "      <td>2021-11-01</td>\n",
       "      <td>0.0035</td>\n",
       "      <td>2</td>\n",
       "      <td>100.9685</td>\n",
       "    </tr>\n",
       "    <tr>\n",
       "      <th>14</th>\n",
       "      <td>IT0005028003</td>\n",
       "      <td>BTP Dec-21, 2.15</td>\n",
       "      <td>2021-12-15</td>\n",
       "      <td>0.0215</td>\n",
       "      <td>2</td>\n",
       "      <td>104.3405</td>\n",
       "    </tr>\n",
       "    <tr>\n",
       "      <th>15</th>\n",
       "      <td>IT0004759673</td>\n",
       "      <td>BTP Mar-22, 5</td>\n",
       "      <td>2022-03-01</td>\n",
       "      <td>0.0500</td>\n",
       "      <td>2</td>\n",
       "      <td>110.6415</td>\n",
       "    </tr>\n",
       "    <tr>\n",
       "      <th>16</th>\n",
       "      <td>IT0005244782</td>\n",
       "      <td>BTP Apr-22, 1.2</td>\n",
       "      <td>2022-04-01</td>\n",
       "      <td>0.0120</td>\n",
       "      <td>2</td>\n",
       "      <td>102.8905</td>\n",
       "    </tr>\n",
       "    <tr>\n",
       "      <th>17</th>\n",
       "      <td>IT0005086886</td>\n",
       "      <td>BTP Apr-22, 1.35</td>\n",
       "      <td>2022-04-15</td>\n",
       "      <td>0.0135</td>\n",
       "      <td>2</td>\n",
       "      <td>103.2085</td>\n",
       "    </tr>\n",
       "    <tr>\n",
       "      <th>18</th>\n",
       "      <td>IT0005366007</td>\n",
       "      <td>BTP Jul-22, 1</td>\n",
       "      <td>2022-07-15</td>\n",
       "      <td>0.0100</td>\n",
       "      <td>2</td>\n",
       "      <td>102.6775</td>\n",
       "    </tr>\n",
       "    <tr>\n",
       "      <th>19</th>\n",
       "      <td>IT0005277444</td>\n",
       "      <td>BTP Aug-22, 0.9</td>\n",
       "      <td>2022-08-01</td>\n",
       "      <td>0.0090</td>\n",
       "      <td>2</td>\n",
       "      <td>102.4720</td>\n",
       "    </tr>\n",
       "    <tr>\n",
       "      <th>20</th>\n",
       "      <td>IT0004801541</td>\n",
       "      <td>BTP Sep-22, 5.5</td>\n",
       "      <td>2022-09-01</td>\n",
       "      <td>0.0550</td>\n",
       "      <td>2</td>\n",
       "      <td>114.2535</td>\n",
       "    </tr>\n",
       "    <tr>\n",
       "      <th>21</th>\n",
       "      <td>IT0005135840</td>\n",
       "      <td>BTP Sep-22, 1.45</td>\n",
       "      <td>2022-09-15</td>\n",
       "      <td>0.0145</td>\n",
       "      <td>2</td>\n",
       "      <td>103.9795</td>\n",
       "    </tr>\n",
       "    <tr>\n",
       "      <th>22</th>\n",
       "      <td>IT0004848831</td>\n",
       "      <td>BTP Nov-22, 5.5</td>\n",
       "      <td>2022-11-01</td>\n",
       "      <td>0.0550</td>\n",
       "      <td>2</td>\n",
       "      <td>115.0950</td>\n",
       "    </tr>\n",
       "    <tr>\n",
       "      <th>23</th>\n",
       "      <td>IT0005384497</td>\n",
       "      <td>BTP Jan-23, 0.05</td>\n",
       "      <td>2023-01-15</td>\n",
       "      <td>0.0005</td>\n",
       "      <td>2</td>\n",
       "      <td>100.1740</td>\n",
       "    </tr>\n",
       "    <tr>\n",
       "      <th>24</th>\n",
       "      <td>IT0005325946</td>\n",
       "      <td>BTP Mar-23, 0.95</td>\n",
       "      <td>2023-03-01</td>\n",
       "      <td>0.0095</td>\n",
       "      <td>2</td>\n",
       "      <td>102.8255</td>\n",
       "    </tr>\n",
       "    <tr>\n",
       "      <th>25</th>\n",
       "      <td>IT0005172322</td>\n",
       "      <td>BTP Mar-23, 0.95</td>\n",
       "      <td>2023-03-15</td>\n",
       "      <td>0.0095</td>\n",
       "      <td>2</td>\n",
       "      <td>102.8845</td>\n",
       "    </tr>\n",
       "    <tr>\n",
       "      <th>26</th>\n",
       "      <td>IT0004898034</td>\n",
       "      <td>BTP May-23, 4.5</td>\n",
       "      <td>2023-05-01</td>\n",
       "      <td>0.0450</td>\n",
       "      <td>2</td>\n",
       "      <td>114.3025</td>\n",
       "    </tr>\n",
       "    <tr>\n",
       "      <th>27</th>\n",
       "      <td>IT0004356843</td>\n",
       "      <td>BTP Aug-23, 4.75</td>\n",
       "      <td>2023-08-01</td>\n",
       "      <td>0.0475</td>\n",
       "      <td>2</td>\n",
       "      <td>116.2320</td>\n",
       "    </tr>\n",
       "    <tr>\n",
       "      <th>28</th>\n",
       "      <td>IT0005344335</td>\n",
       "      <td>BTP Oct-23, 2.45</td>\n",
       "      <td>2023-10-01</td>\n",
       "      <td>0.0245</td>\n",
       "      <td>2</td>\n",
       "      <td>108.4740</td>\n",
       "    </tr>\n",
       "    <tr>\n",
       "      <th>29</th>\n",
       "      <td>IT0005215246</td>\n",
       "      <td>BTP Oct-23, 0.65</td>\n",
       "      <td>2023-10-15</td>\n",
       "      <td>0.0065</td>\n",
       "      <td>2</td>\n",
       "      <td>102.1180</td>\n",
       "    </tr>\n",
       "  </tbody>\n",
       "</table>\n",
       "</div>"
      ],
      "text/plain": [
       "            ISIN       Description   Maturity    Rate  PayFrequency     Price\n",
       "0   IT0004536949  BTP Mar-20, 4.25 2020-03-01  0.0425             2  100.2180\n",
       "1   IT0005107708   BTP May-20, 0.7 2020-05-01  0.0070             2  100.2295\n",
       "2   IT0005250946  BTP Jun-20, 0.35 2020-06-15  0.0035             2  100.2385\n",
       "3   IT0004594930     BTP Sep-20, 4 2020-09-01  0.0400             2  102.3805\n",
       "4   IT0005285041   BTP Oct-20, 0.2 2020-10-15  0.0020             2  100.3705\n",
       "5   IT0005142143  BTP Nov-20, 0.65 2020-11-01  0.0065             2  100.7190\n",
       "6   IT0004634132  BTP Mar-21, 3.75 2021-03-01  0.0375             2  104.2660\n",
       "7   IT0005330961  BTP Apr-21, 0.05 2021-04-15  0.0005             2  100.3770\n",
       "8   IT0004966401  BTP May-21, 3.75 2021-05-01  0.0375             2  104.8930\n",
       "9   IT0005175598  BTP Jun-21, 0.45 2021-06-01  0.0045             2  100.9240\n",
       "10  IT0004009673  BTP Aug-21, 3.75 2021-08-01  0.0375             2  105.8750\n",
       "11  IT0004695075  BTP Sep-21, 4.75 2021-09-01  0.0475             2  107.7295\n",
       "12  IT0005348443   BTP Oct-21, 2.3 2021-10-15  0.0230             2  104.2015\n",
       "13  IT0005216491  BTP Nov-21, 0.35 2021-11-01  0.0035             2  100.9685\n",
       "14  IT0005028003  BTP Dec-21, 2.15 2021-12-15  0.0215             2  104.3405\n",
       "15  IT0004759673     BTP Mar-22, 5 2022-03-01  0.0500             2  110.6415\n",
       "16  IT0005244782   BTP Apr-22, 1.2 2022-04-01  0.0120             2  102.8905\n",
       "17  IT0005086886  BTP Apr-22, 1.35 2022-04-15  0.0135             2  103.2085\n",
       "18  IT0005366007     BTP Jul-22, 1 2022-07-15  0.0100             2  102.6775\n",
       "19  IT0005277444   BTP Aug-22, 0.9 2022-08-01  0.0090             2  102.4720\n",
       "20  IT0004801541   BTP Sep-22, 5.5 2022-09-01  0.0550             2  114.2535\n",
       "21  IT0005135840  BTP Sep-22, 1.45 2022-09-15  0.0145             2  103.9795\n",
       "22  IT0004848831   BTP Nov-22, 5.5 2022-11-01  0.0550             2  115.0950\n",
       "23  IT0005384497  BTP Jan-23, 0.05 2023-01-15  0.0005             2  100.1740\n",
       "24  IT0005325946  BTP Mar-23, 0.95 2023-03-01  0.0095             2  102.8255\n",
       "25  IT0005172322  BTP Mar-23, 0.95 2023-03-15  0.0095             2  102.8845\n",
       "26  IT0004898034   BTP May-23, 4.5 2023-05-01  0.0450             2  114.3025\n",
       "27  IT0004356843  BTP Aug-23, 4.75 2023-08-01  0.0475             2  116.2320\n",
       "28  IT0005344335  BTP Oct-23, 2.45 2023-10-01  0.0245             2  108.4740\n",
       "29  IT0005215246  BTP Oct-23, 0.65 2023-10-15  0.0065             2  102.1180"
      ]
     },
     "execution_count": 4,
     "metadata": {},
     "output_type": "execute_result"
    }
   ],
   "source": [
    "btp_italia.head(30)"
   ]
  },
  {
   "cell_type": "code",
   "execution_count": 10,
   "metadata": {
    "slideshow": {
     "slide_type": "skip"
    }
   },
   "outputs": [],
   "source": [
    "#Create a scatter plot from BTP prices\n",
    "min_maty = min(btp['Maturity'])\n",
    "min_xRange = dt.datetime(min_maty.year-1, min_maty.month, min_maty.day)\n",
    "max_maty = max(btp['Maturity'])\n",
    "max_xRange = dt.datetime(max_maty.year+1, max_maty.month, max_maty.day)\n",
    "\n",
    "btp_price = go.Scatter(x=btp['Maturity'],y=btp['Price'],\n",
    "                       hovertemplate='<br><b>Price</b>: %{y:.2f}<br>'+\n",
    "                       '<b>%{text}</b><extra></extra>',\n",
    "                       text=btp['Description'],\n",
    "                       name='Bonds price', mode='markers', marker=dict(color='Red', size=5),\n",
    "                       line=dict(color='Red', width=1, dash='dot'))\n",
    "\n",
    "prices = go.FigureWidget([btp_price])\n",
    "\n",
    "#Figure Title\n",
    "prices['layout']['title'] = {'text':'Prices','font':{'size': 25},'x':0.5,'xanchor':'center'}\n",
    "#Figure x axis\n",
    "prices['layout']['xaxis'] = {'range':[min_xRange,max_xRange],\n",
    "                             'title': 'Maturity', 'titlefont':{'size': 10}}\n",
    "#Figure y axis\n",
    "prices['layout']['yaxis'] = {'range':[90,160],'fixedrange': False, 'title': 'Price',\n",
    "                             'titlefont':{'size': 10},'hoverformat': '.2f'}\n",
    "\n",
    "prices['layout']['showlegend'] = False\n",
    "prices['layout']['height'] = 800\n",
    "prices['layout']['width'] = 1600\n",
    "#prices['layout']['autosize']=True\n",
    "\n",
    "prices['layout']['updatemenus']= list([\n",
    "    dict(type=\"buttons\",\n",
    "         active=-1,\n",
    "         buttons=list([\n",
    "            dict(label = 'Markers',\n",
    "                 method = 'update',\n",
    "                 args = [{'mode':'markers'}]),\n",
    "            dict(label = 'Lines',\n",
    "                 method = 'update',\n",
    "                 args = [{'mode':'lines'}]),\n",
    "            dict(label = 'Markers+Lines',\n",
    "                 method = 'update',\n",
    "                 args = [{'mode':'markers+lines'}])]),\n",
    "        direction='right',\n",
    "        pad = {'r': 10, 't': 87},\n",
    "        showactive = True,\n",
    "        x = 0.5,\n",
    "        xanchor = 'center',\n",
    "        y = 0.05,\n",
    "        yanchor = 'top'\n",
    "    )\n",
    "])\n",
    "\n",
    "#Create a scatter plot from BTP YtM\n",
    "btp_yield = go.Scatter(x=btp['Maturity'],y=btp['Yield'],\n",
    "                       hovertemplate='<br><b>Yield</b>: %{y:.4p}<br>'+\n",
    "                       '<b>%{text}</b><extra></extra>',\n",
    "                       text=btp['Description'],\n",
    "                       name='Bonds YtM', mode='markers', marker=dict(color='Green', size=5),\n",
    "                       line=dict(color='Green', width=1, dash='dot'))\n",
    "\n",
    "\n",
    "yields = go.FigureWidget([btp_yield])\n",
    "\n",
    "#Figure Title\n",
    "yields['layout']['title'] = {'text':'Yield-to-Maturity','font':{'size': 25},'x':0.5,'xanchor':'center'}\n",
    "#Figure x axis\n",
    "yields['layout']['xaxis'] = {'range':[min_xRange,max_xRange],\n",
    "                             'title': 'Maturity', 'titlefont':{'size': 15}}\n",
    "#Figure y axis\n",
    "yields['layout']['yaxis'] = {'range':[-0.005,0.0225],\n",
    "                             'fixedrange': False,\n",
    "                             'title': 'Yield-to-Maturity',\n",
    "                             'tickformat': '.2p',\n",
    "                             'titlefont':{'size': 15},\n",
    "                             'hoverformat': '.4p'}\n",
    "\n",
    "yields['layout']['showlegend'] = False\n",
    "yields['layout']['height'] = 800\n",
    "yields['layout']['width'] = 1600\n",
    "#yields['layout']['autosize']=False\n",
    "\n",
    "yields['layout']['updatemenus']= list([\n",
    "    dict(type=\"buttons\",\n",
    "         active=-1,\n",
    "         buttons=list([\n",
    "            dict(label = 'Markers',\n",
    "                 method = 'update',\n",
    "                 args = [{'mode':'markers'}]),\n",
    "            dict(label = 'Lines',\n",
    "                 method = 'update',\n",
    "                 args = [{'mode':'lines'}]),\n",
    "            dict(label = 'Markers+Lines',\n",
    "                 method = 'update',\n",
    "                 args = [{'mode':'markers+lines'}])]),\n",
    "        direction='right',\n",
    "        pad = {'r': 10, 't': 87},\n",
    "        showactive = True,\n",
    "        x = 0.5,\n",
    "        xanchor = 'center',\n",
    "        y = 0.05,\n",
    "        yanchor = 'top'\n",
    "    )\n",
    "])"
   ]
  },
  {
   "cell_type": "markdown",
   "metadata": {
    "slideshow": {
     "slide_type": "slide"
    }
   },
   "source": [
    "## <center>Why yields (instead of prices)?</center>"
   ]
  },
  {
   "cell_type": "code",
   "execution_count": 11,
   "metadata": {
    "scrolled": false,
    "slideshow": {
     "slide_type": "subslide"
    }
   },
   "outputs": [
    {
     "data": {
      "application/vnd.plotly.v1+json": {
       "config": {
        "linkText": "Export to plot.ly",
        "plotlyServerURL": "https://plot.ly",
        "showLink": false
       },
       "data": [
        {
         "hovertemplate": "<br><b>Price</b>: %{y:.2f}<br><b>%{text}</b><extra></extra>",
         "line": {
          "color": "Red",
          "dash": "dot",
          "width": 1
         },
         "marker": {
          "color": "Red",
          "size": 5
         },
         "mode": "markers",
         "name": "Bonds price",
         "text": [
          "BTP Mar-20, 4.25",
          "BTP May-20, 0.7",
          "BTP Jun-20, 0.35",
          "BTP Sep-20, 4",
          "BTP Oct-20, 0.2",
          "BTP Nov-20, 0.65",
          "BTP Mar-21, 3.75",
          "BTP Apr-21, 0.05",
          "BTP May-21, 3.75",
          "BTP Jun-21, 0.45",
          "BTP Aug-21, 3.75",
          "BTP Sep-21, 4.75",
          "BTP Oct-21, 2.3",
          "BTP Nov-21, 0.35",
          "BTP Dec-21, 2.15",
          "BTP Mar-22, 5",
          "BTP Apr-22, 1.2",
          "BTP Apr-22, 1.35",
          "BTP Jul-22, 1",
          "BTP Aug-22, 0.9",
          "BTP Sep-22, 5.5",
          "BTP Sep-22, 1.45",
          "BTP Nov-22, 5.5",
          "BTP Jan-23, 0.05",
          "BTP Mar-23, 0.95",
          "BTP Mar-23, 0.95",
          "BTP May-23, 4.5",
          "BTP Aug-23, 4.75",
          "BTP Oct-23, 2.45",
          "BTP Oct-23, 0.65",
          "BTP Nov-23, 9",
          "BTP Dec-23, 8.5",
          "BTP Mar-24, 4.5",
          "BTP May-24, 1.85",
          "BTP Jul-24, 1.75",
          "BTP Sep-24, 3.75",
          "BTP Nov-24, 1.45",
          "BTP Dec-24, 2.5",
          "BTP Feb-25, 0.35",
          "BTP Mar-25, 5",
          "BTP May-25, 1.45",
          "BTP Jun-25, 1.5",
          "BTP Nov-25, 2.5",
          "BTP Dec-25, 2",
          "BTP Mar-26, 4.5",
          "BTP Jun-26, 1.6",
          "BTP Jul-26, 2.1",
          "BTP Nov-26, 7.25",
          "BTP Dec-26, 1.25",
          "BTP Jan-27, 0.85",
          "BTP Jun-27, 2.2",
          "BTP Aug-27, 2.05",
          "BTP Nov-27, 6.5",
          "BTP Feb-28, 2",
          "BTP Sep-28, 4.75",
          "BTP Dec-28, 2.8",
          "BTP Aug-29, 3",
          "BTP Nov-29, 5.25",
          "BTP Mar-30, 3.5",
          "BTP Apr-30, 1.35",
          "BTP May-31, 6",
          "BTP Mar-32, 1.65",
          "BTP Feb-33, 5.75",
          "BTP Sep-33, 2.45",
          "BTP Aug-34, 5",
          "BTP Mar-35, 3.35",
          "BTP Sep-36, 2.25",
          "BTP Feb-37, 4",
          "BTP Sep-38, 2.95",
          "BTP Aug-39, 5",
          "BTP Mar-40, 3.1",
          "BTP Sep-40, 5",
          "BTP Sep-44, 4.75",
          "BTP Sep-46, 3.25",
          "BTP Mar-47, 2.7",
          "BTP Mar-48, 3.45",
          "BTP Sep-49, 3.85",
          "BTP Sep-50, 2.45",
          "BTP Mar-67, 2.8"
         ],
         "type": "scatter",
         "uid": "28e78e27-36b5-4a96-9e19-33125de99c73",
         "x": [
          "2020-03-01T00:00:00",
          "2020-05-01T00:00:00",
          "2020-06-15T00:00:00",
          "2020-09-01T00:00:00",
          "2020-10-15T00:00:00",
          "2020-11-01T00:00:00",
          "2021-03-01T00:00:00",
          "2021-04-15T00:00:00",
          "2021-05-01T00:00:00",
          "2021-06-01T00:00:00",
          "2021-08-01T00:00:00",
          "2021-09-01T00:00:00",
          "2021-10-15T00:00:00",
          "2021-11-01T00:00:00",
          "2021-12-15T00:00:00",
          "2022-03-01T00:00:00",
          "2022-04-01T00:00:00",
          "2022-04-15T00:00:00",
          "2022-07-15T00:00:00",
          "2022-08-01T00:00:00",
          "2022-09-01T00:00:00",
          "2022-09-15T00:00:00",
          "2022-11-01T00:00:00",
          "2023-01-15T00:00:00",
          "2023-03-01T00:00:00",
          "2023-03-15T00:00:00",
          "2023-05-01T00:00:00",
          "2023-08-01T00:00:00",
          "2023-10-01T00:00:00",
          "2023-10-15T00:00:00",
          "2023-11-01T00:00:00",
          "2023-12-22T00:00:00",
          "2024-03-01T00:00:00",
          "2024-05-15T00:00:00",
          "2024-07-01T00:00:00",
          "2024-09-01T00:00:00",
          "2024-11-15T00:00:00",
          "2024-12-01T00:00:00",
          "2025-02-01T00:00:00",
          "2025-03-01T00:00:00",
          "2025-05-15T00:00:00",
          "2025-06-01T00:00:00",
          "2025-11-15T00:00:00",
          "2025-12-01T00:00:00",
          "2026-03-01T00:00:00",
          "2026-06-01T00:00:00",
          "2026-07-15T00:00:00",
          "2026-11-01T00:00:00",
          "2026-12-01T00:00:00",
          "2027-01-15T00:00:00",
          "2027-06-01T00:00:00",
          "2027-08-01T00:00:00",
          "2027-11-01T00:00:00",
          "2028-02-01T00:00:00",
          "2028-09-01T00:00:00",
          "2028-12-01T00:00:00",
          "2029-08-01T00:00:00",
          "2029-11-01T00:00:00",
          "2030-03-01T00:00:00",
          "2030-04-01T00:00:00",
          "2031-05-01T00:00:00",
          "2032-03-01T00:00:00",
          "2033-02-01T00:00:00",
          "2033-09-01T00:00:00",
          "2034-08-01T00:00:00",
          "2035-03-01T00:00:00",
          "2036-09-01T00:00:00",
          "2037-02-01T00:00:00",
          "2038-09-01T00:00:00",
          "2039-08-01T00:00:00",
          "2040-03-01T00:00:00",
          "2040-09-01T00:00:00",
          "2044-09-01T00:00:00",
          "2046-09-01T00:00:00",
          "2047-03-01T00:00:00",
          "2048-03-01T00:00:00",
          "2049-09-01T00:00:00",
          "2050-09-01T00:00:00",
          "2067-03-01T00:00:00"
         ],
         "y": [
          100.21799999999999,
          100.2295,
          100.2385,
          102.3805,
          100.3705,
          100.719,
          104.266,
          100.37700000000001,
          104.89299999999999,
          100.92399999999999,
          105.875,
          107.7295,
          104.2015,
          100.9685,
          104.3405,
          110.6415,
          102.8905,
          103.2085,
          102.6775,
          102.47200000000001,
          114.2535,
          103.9795,
          115.095,
          100.17399999999999,
          102.8255,
          102.8845,
          114.3025,
          116.23200000000001,
          108.47399999999999,
          102.118,
          132.9585,
          131.7225,
          117.417,
          107.0145,
          106.63,
          115.8095,
          105.635,
          110.54700000000001,
          100.137,
          123.4015,
          105.6525,
          105.936,
          111.679,
          108.96700000000001,
          123.97399999999999,
          106.8685,
          109.8935,
          143.952,
          104.611,
          101.6865,
          111.0055,
          109.99600000000001,
          143.3825,
          109.954,
          132.7505,
          116.79899999999999,
          119.199,
          140.1635,
          124.2895,
          103.6685,
          151.91,
          105.7135,
          153.4815,
          114.353,
          147.3555,
          125.865,
          111.01799999999999,
          136.335,
          120.904,
          155.0085,
          123.05,
          155.5655,
          155.862,
          127.774,
          116.539,
          132.4935,
          141.16,
          109.7795,
          116.90100000000001
         ]
        }
       ],
       "layout": {
        "height": 800,
        "showlegend": false,
        "template": {
         "data": {
          "bar": [
           {
            "error_x": {
             "color": "#2a3f5f"
            },
            "error_y": {
             "color": "#2a3f5f"
            },
            "marker": {
             "line": {
              "color": "#E5ECF6",
              "width": 0.5
             }
            },
            "type": "bar"
           }
          ],
          "barpolar": [
           {
            "marker": {
             "line": {
              "color": "#E5ECF6",
              "width": 0.5
             }
            },
            "type": "barpolar"
           }
          ],
          "carpet": [
           {
            "aaxis": {
             "endlinecolor": "#2a3f5f",
             "gridcolor": "white",
             "linecolor": "white",
             "minorgridcolor": "white",
             "startlinecolor": "#2a3f5f"
            },
            "baxis": {
             "endlinecolor": "#2a3f5f",
             "gridcolor": "white",
             "linecolor": "white",
             "minorgridcolor": "white",
             "startlinecolor": "#2a3f5f"
            },
            "type": "carpet"
           }
          ],
          "choropleth": [
           {
            "colorbar": {
             "outlinewidth": 0,
             "ticks": ""
            },
            "type": "choropleth"
           }
          ],
          "contour": [
           {
            "colorbar": {
             "outlinewidth": 0,
             "ticks": ""
            },
            "colorscale": [
             [
              0,
              "#0d0887"
             ],
             [
              0.1111111111111111,
              "#46039f"
             ],
             [
              0.2222222222222222,
              "#7201a8"
             ],
             [
              0.3333333333333333,
              "#9c179e"
             ],
             [
              0.4444444444444444,
              "#bd3786"
             ],
             [
              0.5555555555555556,
              "#d8576b"
             ],
             [
              0.6666666666666666,
              "#ed7953"
             ],
             [
              0.7777777777777778,
              "#fb9f3a"
             ],
             [
              0.8888888888888888,
              "#fdca26"
             ],
             [
              1,
              "#f0f921"
             ]
            ],
            "type": "contour"
           }
          ],
          "contourcarpet": [
           {
            "colorbar": {
             "outlinewidth": 0,
             "ticks": ""
            },
            "type": "contourcarpet"
           }
          ],
          "heatmap": [
           {
            "colorbar": {
             "outlinewidth": 0,
             "ticks": ""
            },
            "colorscale": [
             [
              0,
              "#0d0887"
             ],
             [
              0.1111111111111111,
              "#46039f"
             ],
             [
              0.2222222222222222,
              "#7201a8"
             ],
             [
              0.3333333333333333,
              "#9c179e"
             ],
             [
              0.4444444444444444,
              "#bd3786"
             ],
             [
              0.5555555555555556,
              "#d8576b"
             ],
             [
              0.6666666666666666,
              "#ed7953"
             ],
             [
              0.7777777777777778,
              "#fb9f3a"
             ],
             [
              0.8888888888888888,
              "#fdca26"
             ],
             [
              1,
              "#f0f921"
             ]
            ],
            "type": "heatmap"
           }
          ],
          "heatmapgl": [
           {
            "colorbar": {
             "outlinewidth": 0,
             "ticks": ""
            },
            "colorscale": [
             [
              0,
              "#0d0887"
             ],
             [
              0.1111111111111111,
              "#46039f"
             ],
             [
              0.2222222222222222,
              "#7201a8"
             ],
             [
              0.3333333333333333,
              "#9c179e"
             ],
             [
              0.4444444444444444,
              "#bd3786"
             ],
             [
              0.5555555555555556,
              "#d8576b"
             ],
             [
              0.6666666666666666,
              "#ed7953"
             ],
             [
              0.7777777777777778,
              "#fb9f3a"
             ],
             [
              0.8888888888888888,
              "#fdca26"
             ],
             [
              1,
              "#f0f921"
             ]
            ],
            "type": "heatmapgl"
           }
          ],
          "histogram": [
           {
            "marker": {
             "colorbar": {
              "outlinewidth": 0,
              "ticks": ""
             }
            },
            "type": "histogram"
           }
          ],
          "histogram2d": [
           {
            "colorbar": {
             "outlinewidth": 0,
             "ticks": ""
            },
            "colorscale": [
             [
              0,
              "#0d0887"
             ],
             [
              0.1111111111111111,
              "#46039f"
             ],
             [
              0.2222222222222222,
              "#7201a8"
             ],
             [
              0.3333333333333333,
              "#9c179e"
             ],
             [
              0.4444444444444444,
              "#bd3786"
             ],
             [
              0.5555555555555556,
              "#d8576b"
             ],
             [
              0.6666666666666666,
              "#ed7953"
             ],
             [
              0.7777777777777778,
              "#fb9f3a"
             ],
             [
              0.8888888888888888,
              "#fdca26"
             ],
             [
              1,
              "#f0f921"
             ]
            ],
            "type": "histogram2d"
           }
          ],
          "histogram2dcontour": [
           {
            "colorbar": {
             "outlinewidth": 0,
             "ticks": ""
            },
            "colorscale": [
             [
              0,
              "#0d0887"
             ],
             [
              0.1111111111111111,
              "#46039f"
             ],
             [
              0.2222222222222222,
              "#7201a8"
             ],
             [
              0.3333333333333333,
              "#9c179e"
             ],
             [
              0.4444444444444444,
              "#bd3786"
             ],
             [
              0.5555555555555556,
              "#d8576b"
             ],
             [
              0.6666666666666666,
              "#ed7953"
             ],
             [
              0.7777777777777778,
              "#fb9f3a"
             ],
             [
              0.8888888888888888,
              "#fdca26"
             ],
             [
              1,
              "#f0f921"
             ]
            ],
            "type": "histogram2dcontour"
           }
          ],
          "mesh3d": [
           {
            "colorbar": {
             "outlinewidth": 0,
             "ticks": ""
            },
            "type": "mesh3d"
           }
          ],
          "parcoords": [
           {
            "line": {
             "colorbar": {
              "outlinewidth": 0,
              "ticks": ""
             }
            },
            "type": "parcoords"
           }
          ],
          "pie": [
           {
            "automargin": true,
            "type": "pie"
           }
          ],
          "scatter": [
           {
            "marker": {
             "colorbar": {
              "outlinewidth": 0,
              "ticks": ""
             }
            },
            "type": "scatter"
           }
          ],
          "scatter3d": [
           {
            "line": {
             "colorbar": {
              "outlinewidth": 0,
              "ticks": ""
             }
            },
            "marker": {
             "colorbar": {
              "outlinewidth": 0,
              "ticks": ""
             }
            },
            "type": "scatter3d"
           }
          ],
          "scattercarpet": [
           {
            "marker": {
             "colorbar": {
              "outlinewidth": 0,
              "ticks": ""
             }
            },
            "type": "scattercarpet"
           }
          ],
          "scattergeo": [
           {
            "marker": {
             "colorbar": {
              "outlinewidth": 0,
              "ticks": ""
             }
            },
            "type": "scattergeo"
           }
          ],
          "scattergl": [
           {
            "marker": {
             "colorbar": {
              "outlinewidth": 0,
              "ticks": ""
             }
            },
            "type": "scattergl"
           }
          ],
          "scattermapbox": [
           {
            "marker": {
             "colorbar": {
              "outlinewidth": 0,
              "ticks": ""
             }
            },
            "type": "scattermapbox"
           }
          ],
          "scatterpolar": [
           {
            "marker": {
             "colorbar": {
              "outlinewidth": 0,
              "ticks": ""
             }
            },
            "type": "scatterpolar"
           }
          ],
          "scatterpolargl": [
           {
            "marker": {
             "colorbar": {
              "outlinewidth": 0,
              "ticks": ""
             }
            },
            "type": "scatterpolargl"
           }
          ],
          "scatterternary": [
           {
            "marker": {
             "colorbar": {
              "outlinewidth": 0,
              "ticks": ""
             }
            },
            "type": "scatterternary"
           }
          ],
          "surface": [
           {
            "colorbar": {
             "outlinewidth": 0,
             "ticks": ""
            },
            "colorscale": [
             [
              0,
              "#0d0887"
             ],
             [
              0.1111111111111111,
              "#46039f"
             ],
             [
              0.2222222222222222,
              "#7201a8"
             ],
             [
              0.3333333333333333,
              "#9c179e"
             ],
             [
              0.4444444444444444,
              "#bd3786"
             ],
             [
              0.5555555555555556,
              "#d8576b"
             ],
             [
              0.6666666666666666,
              "#ed7953"
             ],
             [
              0.7777777777777778,
              "#fb9f3a"
             ],
             [
              0.8888888888888888,
              "#fdca26"
             ],
             [
              1,
              "#f0f921"
             ]
            ],
            "type": "surface"
           }
          ],
          "table": [
           {
            "cells": {
             "fill": {
              "color": "#EBF0F8"
             },
             "line": {
              "color": "white"
             }
            },
            "header": {
             "fill": {
              "color": "#C8D4E3"
             },
             "line": {
              "color": "white"
             }
            },
            "type": "table"
           }
          ]
         },
         "layout": {
          "annotationdefaults": {
           "arrowcolor": "#2a3f5f",
           "arrowhead": 0,
           "arrowwidth": 1
          },
          "coloraxis": {
           "colorbar": {
            "outlinewidth": 0,
            "ticks": ""
           }
          },
          "colorscale": {
           "diverging": [
            [
             0,
             "#8e0152"
            ],
            [
             0.1,
             "#c51b7d"
            ],
            [
             0.2,
             "#de77ae"
            ],
            [
             0.3,
             "#f1b6da"
            ],
            [
             0.4,
             "#fde0ef"
            ],
            [
             0.5,
             "#f7f7f7"
            ],
            [
             0.6,
             "#e6f5d0"
            ],
            [
             0.7,
             "#b8e186"
            ],
            [
             0.8,
             "#7fbc41"
            ],
            [
             0.9,
             "#4d9221"
            ],
            [
             1,
             "#276419"
            ]
           ],
           "sequential": [
            [
             0,
             "#0d0887"
            ],
            [
             0.1111111111111111,
             "#46039f"
            ],
            [
             0.2222222222222222,
             "#7201a8"
            ],
            [
             0.3333333333333333,
             "#9c179e"
            ],
            [
             0.4444444444444444,
             "#bd3786"
            ],
            [
             0.5555555555555556,
             "#d8576b"
            ],
            [
             0.6666666666666666,
             "#ed7953"
            ],
            [
             0.7777777777777778,
             "#fb9f3a"
            ],
            [
             0.8888888888888888,
             "#fdca26"
            ],
            [
             1,
             "#f0f921"
            ]
           ],
           "sequentialminus": [
            [
             0,
             "#0d0887"
            ],
            [
             0.1111111111111111,
             "#46039f"
            ],
            [
             0.2222222222222222,
             "#7201a8"
            ],
            [
             0.3333333333333333,
             "#9c179e"
            ],
            [
             0.4444444444444444,
             "#bd3786"
            ],
            [
             0.5555555555555556,
             "#d8576b"
            ],
            [
             0.6666666666666666,
             "#ed7953"
            ],
            [
             0.7777777777777778,
             "#fb9f3a"
            ],
            [
             0.8888888888888888,
             "#fdca26"
            ],
            [
             1,
             "#f0f921"
            ]
           ]
          },
          "colorway": [
           "#636efa",
           "#EF553B",
           "#00cc96",
           "#ab63fa",
           "#FFA15A",
           "#19d3f3",
           "#FF6692",
           "#B6E880",
           "#FF97FF",
           "#FECB52"
          ],
          "font": {
           "color": "#2a3f5f"
          },
          "geo": {
           "bgcolor": "white",
           "lakecolor": "white",
           "landcolor": "#E5ECF6",
           "showlakes": true,
           "showland": true,
           "subunitcolor": "white"
          },
          "hoverlabel": {
           "align": "left"
          },
          "hovermode": "closest",
          "mapbox": {
           "style": "light"
          },
          "paper_bgcolor": "white",
          "plot_bgcolor": "#E5ECF6",
          "polar": {
           "angularaxis": {
            "gridcolor": "white",
            "linecolor": "white",
            "ticks": ""
           },
           "bgcolor": "#E5ECF6",
           "radialaxis": {
            "gridcolor": "white",
            "linecolor": "white",
            "ticks": ""
           }
          },
          "scene": {
           "xaxis": {
            "backgroundcolor": "#E5ECF6",
            "gridcolor": "white",
            "gridwidth": 2,
            "linecolor": "white",
            "showbackground": true,
            "ticks": "",
            "zerolinecolor": "white"
           },
           "yaxis": {
            "backgroundcolor": "#E5ECF6",
            "gridcolor": "white",
            "gridwidth": 2,
            "linecolor": "white",
            "showbackground": true,
            "ticks": "",
            "zerolinecolor": "white"
           },
           "zaxis": {
            "backgroundcolor": "#E5ECF6",
            "gridcolor": "white",
            "gridwidth": 2,
            "linecolor": "white",
            "showbackground": true,
            "ticks": "",
            "zerolinecolor": "white"
           }
          },
          "shapedefaults": {
           "line": {
            "color": "#2a3f5f"
           }
          },
          "ternary": {
           "aaxis": {
            "gridcolor": "white",
            "linecolor": "white",
            "ticks": ""
           },
           "baxis": {
            "gridcolor": "white",
            "linecolor": "white",
            "ticks": ""
           },
           "bgcolor": "#E5ECF6",
           "caxis": {
            "gridcolor": "white",
            "linecolor": "white",
            "ticks": ""
           }
          },
          "title": {
           "x": 0.05
          },
          "xaxis": {
           "automargin": true,
           "gridcolor": "white",
           "linecolor": "white",
           "ticks": "",
           "title": {
            "standoff": 15
           },
           "zerolinecolor": "white",
           "zerolinewidth": 2
          },
          "yaxis": {
           "automargin": true,
           "gridcolor": "white",
           "linecolor": "white",
           "ticks": "",
           "title": {
            "standoff": 15
           },
           "zerolinecolor": "white",
           "zerolinewidth": 2
          }
         }
        },
        "title": {
         "font": {
          "size": 25
         },
         "text": "Prices",
         "x": 0.5,
         "xanchor": "center"
        },
        "updatemenus": [
         {
          "active": -1,
          "buttons": [
           {
            "args": [
             {
              "mode": "markers"
             }
            ],
            "label": "Markers",
            "method": "update"
           },
           {
            "args": [
             {
              "mode": "lines"
             }
            ],
            "label": "Lines",
            "method": "update"
           },
           {
            "args": [
             {
              "mode": "markers+lines"
             }
            ],
            "label": "Markers+Lines",
            "method": "update"
           }
          ],
          "direction": "right",
          "pad": {
           "r": 10,
           "t": 87
          },
          "showactive": true,
          "type": "buttons",
          "x": 0.5,
          "xanchor": "center",
          "y": 0.05,
          "yanchor": "top"
         }
        ],
        "width": 1600,
        "xaxis": {
         "range": [
          "2019-03-01T00:00:00",
          "2068-03-01T00:00:00"
         ],
         "title": {
          "font": {
           "size": 10
          },
          "text": "Maturity"
         }
        },
        "yaxis": {
         "fixedrange": false,
         "hoverformat": ".2f",
         "range": [
          90,
          160
         ],
         "title": {
          "font": {
           "size": 10
          },
          "text": "Price"
         }
        }
       }
      },
      "text/html": [
       "<div>\n",
       "        \n",
       "        \n",
       "            <div id=\"50215bc2-a6a4-4f67-8d85-fe95944dc572\" class=\"plotly-graph-div\" style=\"height:800px; width:1600px;\"></div>\n",
       "            <script type=\"text/javascript\">\n",
       "                require([\"plotly\"], function(Plotly) {\n",
       "                    window.PLOTLYENV=window.PLOTLYENV || {};\n",
       "                    \n",
       "                if (document.getElementById(\"50215bc2-a6a4-4f67-8d85-fe95944dc572\")) {\n",
       "                    Plotly.newPlot(\n",
       "                        '50215bc2-a6a4-4f67-8d85-fe95944dc572',\n",
       "                        [{\"hovertemplate\": \"<br><b>Price</b>: %{y:.2f}<br><b>%{text}</b><extra></extra>\", \"line\": {\"color\": \"Red\", \"dash\": \"dot\", \"width\": 1}, \"marker\": {\"color\": \"Red\", \"size\": 5}, \"mode\": \"markers\", \"name\": \"Bonds price\", \"text\": [\"BTP Mar-20, 4.25\", \"BTP May-20, 0.7\", \"BTP Jun-20, 0.35\", \"BTP Sep-20, 4\", \"BTP Oct-20, 0.2\", \"BTP Nov-20, 0.65\", \"BTP Mar-21, 3.75\", \"BTP Apr-21, 0.05\", \"BTP May-21, 3.75\", \"BTP Jun-21, 0.45\", \"BTP Aug-21, 3.75\", \"BTP Sep-21, 4.75\", \"BTP Oct-21, 2.3\", \"BTP Nov-21, 0.35\", \"BTP Dec-21, 2.15\", \"BTP Mar-22, 5\", \"BTP Apr-22, 1.2\", \"BTP Apr-22, 1.35\", \"BTP Jul-22, 1\", \"BTP Aug-22, 0.9\", \"BTP Sep-22, 5.5\", \"BTP Sep-22, 1.45\", \"BTP Nov-22, 5.5\", \"BTP Jan-23, 0.05\", \"BTP Mar-23, 0.95\", \"BTP Mar-23, 0.95\", \"BTP May-23, 4.5\", \"BTP Aug-23, 4.75\", \"BTP Oct-23, 2.45\", \"BTP Oct-23, 0.65\", \"BTP Nov-23, 9\", \"BTP Dec-23, 8.5\", \"BTP Mar-24, 4.5\", \"BTP May-24, 1.85\", \"BTP Jul-24, 1.75\", \"BTP Sep-24, 3.75\", \"BTP Nov-24, 1.45\", \"BTP Dec-24, 2.5\", \"BTP Feb-25, 0.35\", \"BTP Mar-25, 5\", \"BTP May-25, 1.45\", \"BTP Jun-25, 1.5\", \"BTP Nov-25, 2.5\", \"BTP Dec-25, 2\", \"BTP Mar-26, 4.5\", \"BTP Jun-26, 1.6\", \"BTP Jul-26, 2.1\", \"BTP Nov-26, 7.25\", \"BTP Dec-26, 1.25\", \"BTP Jan-27, 0.85\", \"BTP Jun-27, 2.2\", \"BTP Aug-27, 2.05\", \"BTP Nov-27, 6.5\", \"BTP Feb-28, 2\", \"BTP Sep-28, 4.75\", \"BTP Dec-28, 2.8\", \"BTP Aug-29, 3\", \"BTP Nov-29, 5.25\", \"BTP Mar-30, 3.5\", \"BTP Apr-30, 1.35\", \"BTP May-31, 6\", \"BTP Mar-32, 1.65\", \"BTP Feb-33, 5.75\", \"BTP Sep-33, 2.45\", \"BTP Aug-34, 5\", \"BTP Mar-35, 3.35\", \"BTP Sep-36, 2.25\", \"BTP Feb-37, 4\", \"BTP Sep-38, 2.95\", \"BTP Aug-39, 5\", \"BTP Mar-40, 3.1\", \"BTP Sep-40, 5\", \"BTP Sep-44, 4.75\", \"BTP Sep-46, 3.25\", \"BTP Mar-47, 2.7\", \"BTP Mar-48, 3.45\", \"BTP Sep-49, 3.85\", \"BTP Sep-50, 2.45\", \"BTP Mar-67, 2.8\"], \"type\": \"scatter\", \"uid\": \"28e78e27-36b5-4a96-9e19-33125de99c73\", \"x\": [\"2020-03-01T00:00:00\", \"2020-05-01T00:00:00\", \"2020-06-15T00:00:00\", \"2020-09-01T00:00:00\", \"2020-10-15T00:00:00\", \"2020-11-01T00:00:00\", \"2021-03-01T00:00:00\", \"2021-04-15T00:00:00\", \"2021-05-01T00:00:00\", \"2021-06-01T00:00:00\", \"2021-08-01T00:00:00\", \"2021-09-01T00:00:00\", \"2021-10-15T00:00:00\", \"2021-11-01T00:00:00\", \"2021-12-15T00:00:00\", \"2022-03-01T00:00:00\", \"2022-04-01T00:00:00\", \"2022-04-15T00:00:00\", \"2022-07-15T00:00:00\", \"2022-08-01T00:00:00\", \"2022-09-01T00:00:00\", \"2022-09-15T00:00:00\", \"2022-11-01T00:00:00\", \"2023-01-15T00:00:00\", \"2023-03-01T00:00:00\", \"2023-03-15T00:00:00\", \"2023-05-01T00:00:00\", \"2023-08-01T00:00:00\", \"2023-10-01T00:00:00\", \"2023-10-15T00:00:00\", \"2023-11-01T00:00:00\", \"2023-12-22T00:00:00\", \"2024-03-01T00:00:00\", \"2024-05-15T00:00:00\", \"2024-07-01T00:00:00\", \"2024-09-01T00:00:00\", \"2024-11-15T00:00:00\", \"2024-12-01T00:00:00\", \"2025-02-01T00:00:00\", \"2025-03-01T00:00:00\", \"2025-05-15T00:00:00\", \"2025-06-01T00:00:00\", \"2025-11-15T00:00:00\", \"2025-12-01T00:00:00\", \"2026-03-01T00:00:00\", \"2026-06-01T00:00:00\", \"2026-07-15T00:00:00\", \"2026-11-01T00:00:00\", \"2026-12-01T00:00:00\", \"2027-01-15T00:00:00\", \"2027-06-01T00:00:00\", \"2027-08-01T00:00:00\", \"2027-11-01T00:00:00\", \"2028-02-01T00:00:00\", \"2028-09-01T00:00:00\", \"2028-12-01T00:00:00\", \"2029-08-01T00:00:00\", \"2029-11-01T00:00:00\", \"2030-03-01T00:00:00\", \"2030-04-01T00:00:00\", \"2031-05-01T00:00:00\", \"2032-03-01T00:00:00\", \"2033-02-01T00:00:00\", \"2033-09-01T00:00:00\", \"2034-08-01T00:00:00\", \"2035-03-01T00:00:00\", \"2036-09-01T00:00:00\", \"2037-02-01T00:00:00\", \"2038-09-01T00:00:00\", \"2039-08-01T00:00:00\", \"2040-03-01T00:00:00\", \"2040-09-01T00:00:00\", \"2044-09-01T00:00:00\", \"2046-09-01T00:00:00\", \"2047-03-01T00:00:00\", \"2048-03-01T00:00:00\", \"2049-09-01T00:00:00\", \"2050-09-01T00:00:00\", \"2067-03-01T00:00:00\"], \"y\": [100.21799999999999, 100.2295, 100.2385, 102.3805, 100.3705, 100.719, 104.266, 100.37700000000001, 104.89299999999999, 100.92399999999999, 105.875, 107.7295, 104.2015, 100.9685, 104.3405, 110.6415, 102.8905, 103.2085, 102.6775, 102.47200000000001, 114.2535, 103.9795, 115.095, 100.17399999999999, 102.8255, 102.8845, 114.3025, 116.23200000000001, 108.47399999999999, 102.118, 132.9585, 131.7225, 117.417, 107.0145, 106.63, 115.8095, 105.635, 110.54700000000001, 100.137, 123.4015, 105.6525, 105.936, 111.679, 108.96700000000001, 123.97399999999999, 106.8685, 109.8935, 143.952, 104.611, 101.6865, 111.0055, 109.99600000000001, 143.3825, 109.954, 132.7505, 116.79899999999999, 119.199, 140.1635, 124.2895, 103.6685, 151.91, 105.7135, 153.4815, 114.353, 147.3555, 125.865, 111.01799999999999, 136.335, 120.904, 155.0085, 123.05, 155.5655, 155.862, 127.774, 116.539, 132.4935, 141.16, 109.7795, 116.90100000000001]}],\n",
       "                        {\"height\": 800, \"showlegend\": false, \"template\": {\"data\": {\"bar\": [{\"error_x\": {\"color\": \"#2a3f5f\"}, \"error_y\": {\"color\": \"#2a3f5f\"}, \"marker\": {\"line\": {\"color\": \"#E5ECF6\", \"width\": 0.5}}, \"type\": \"bar\"}], \"barpolar\": [{\"marker\": {\"line\": {\"color\": \"#E5ECF6\", \"width\": 0.5}}, \"type\": \"barpolar\"}], \"carpet\": [{\"aaxis\": {\"endlinecolor\": \"#2a3f5f\", \"gridcolor\": \"white\", \"linecolor\": \"white\", \"minorgridcolor\": \"white\", \"startlinecolor\": \"#2a3f5f\"}, \"baxis\": {\"endlinecolor\": \"#2a3f5f\", \"gridcolor\": \"white\", \"linecolor\": \"white\", \"minorgridcolor\": \"white\", \"startlinecolor\": \"#2a3f5f\"}, \"type\": \"carpet\"}], \"choropleth\": [{\"colorbar\": {\"outlinewidth\": 0, \"ticks\": \"\"}, \"type\": \"choropleth\"}], \"contour\": [{\"colorbar\": {\"outlinewidth\": 0, \"ticks\": \"\"}, \"colorscale\": [[0.0, \"#0d0887\"], [0.1111111111111111, \"#46039f\"], [0.2222222222222222, \"#7201a8\"], [0.3333333333333333, \"#9c179e\"], [0.4444444444444444, \"#bd3786\"], [0.5555555555555556, \"#d8576b\"], [0.6666666666666666, \"#ed7953\"], [0.7777777777777778, \"#fb9f3a\"], [0.8888888888888888, \"#fdca26\"], [1.0, \"#f0f921\"]], \"type\": \"contour\"}], \"contourcarpet\": [{\"colorbar\": {\"outlinewidth\": 0, \"ticks\": \"\"}, \"type\": \"contourcarpet\"}], \"heatmap\": [{\"colorbar\": {\"outlinewidth\": 0, \"ticks\": \"\"}, \"colorscale\": [[0.0, \"#0d0887\"], [0.1111111111111111, \"#46039f\"], [0.2222222222222222, \"#7201a8\"], [0.3333333333333333, \"#9c179e\"], [0.4444444444444444, \"#bd3786\"], [0.5555555555555556, \"#d8576b\"], [0.6666666666666666, \"#ed7953\"], [0.7777777777777778, \"#fb9f3a\"], [0.8888888888888888, \"#fdca26\"], [1.0, \"#f0f921\"]], \"type\": \"heatmap\"}], \"heatmapgl\": [{\"colorbar\": {\"outlinewidth\": 0, \"ticks\": \"\"}, \"colorscale\": [[0.0, \"#0d0887\"], [0.1111111111111111, \"#46039f\"], [0.2222222222222222, \"#7201a8\"], [0.3333333333333333, \"#9c179e\"], [0.4444444444444444, \"#bd3786\"], [0.5555555555555556, \"#d8576b\"], [0.6666666666666666, \"#ed7953\"], [0.7777777777777778, \"#fb9f3a\"], [0.8888888888888888, \"#fdca26\"], [1.0, \"#f0f921\"]], \"type\": \"heatmapgl\"}], \"histogram\": [{\"marker\": {\"colorbar\": {\"outlinewidth\": 0, \"ticks\": \"\"}}, \"type\": \"histogram\"}], \"histogram2d\": [{\"colorbar\": {\"outlinewidth\": 0, \"ticks\": \"\"}, \"colorscale\": [[0.0, \"#0d0887\"], [0.1111111111111111, \"#46039f\"], [0.2222222222222222, \"#7201a8\"], [0.3333333333333333, \"#9c179e\"], [0.4444444444444444, \"#bd3786\"], [0.5555555555555556, \"#d8576b\"], [0.6666666666666666, \"#ed7953\"], [0.7777777777777778, \"#fb9f3a\"], [0.8888888888888888, \"#fdca26\"], [1.0, \"#f0f921\"]], \"type\": \"histogram2d\"}], \"histogram2dcontour\": [{\"colorbar\": {\"outlinewidth\": 0, \"ticks\": \"\"}, \"colorscale\": [[0.0, \"#0d0887\"], [0.1111111111111111, \"#46039f\"], [0.2222222222222222, \"#7201a8\"], [0.3333333333333333, \"#9c179e\"], [0.4444444444444444, \"#bd3786\"], [0.5555555555555556, \"#d8576b\"], [0.6666666666666666, \"#ed7953\"], [0.7777777777777778, \"#fb9f3a\"], [0.8888888888888888, \"#fdca26\"], [1.0, \"#f0f921\"]], \"type\": \"histogram2dcontour\"}], \"mesh3d\": [{\"colorbar\": {\"outlinewidth\": 0, \"ticks\": \"\"}, \"type\": \"mesh3d\"}], \"parcoords\": [{\"line\": {\"colorbar\": {\"outlinewidth\": 0, \"ticks\": \"\"}}, \"type\": \"parcoords\"}], \"pie\": [{\"automargin\": true, \"type\": \"pie\"}], \"scatter\": [{\"marker\": {\"colorbar\": {\"outlinewidth\": 0, \"ticks\": \"\"}}, \"type\": \"scatter\"}], \"scatter3d\": [{\"line\": {\"colorbar\": {\"outlinewidth\": 0, \"ticks\": \"\"}}, \"marker\": {\"colorbar\": {\"outlinewidth\": 0, \"ticks\": \"\"}}, \"type\": \"scatter3d\"}], \"scattercarpet\": [{\"marker\": {\"colorbar\": {\"outlinewidth\": 0, \"ticks\": \"\"}}, \"type\": \"scattercarpet\"}], \"scattergeo\": [{\"marker\": {\"colorbar\": {\"outlinewidth\": 0, \"ticks\": \"\"}}, \"type\": \"scattergeo\"}], \"scattergl\": [{\"marker\": {\"colorbar\": {\"outlinewidth\": 0, \"ticks\": \"\"}}, \"type\": \"scattergl\"}], \"scattermapbox\": [{\"marker\": {\"colorbar\": {\"outlinewidth\": 0, \"ticks\": \"\"}}, \"type\": \"scattermapbox\"}], \"scatterpolar\": [{\"marker\": {\"colorbar\": {\"outlinewidth\": 0, \"ticks\": \"\"}}, \"type\": \"scatterpolar\"}], \"scatterpolargl\": [{\"marker\": {\"colorbar\": {\"outlinewidth\": 0, \"ticks\": \"\"}}, \"type\": \"scatterpolargl\"}], \"scatterternary\": [{\"marker\": {\"colorbar\": {\"outlinewidth\": 0, \"ticks\": \"\"}}, \"type\": \"scatterternary\"}], \"surface\": [{\"colorbar\": {\"outlinewidth\": 0, \"ticks\": \"\"}, \"colorscale\": [[0.0, \"#0d0887\"], [0.1111111111111111, \"#46039f\"], [0.2222222222222222, \"#7201a8\"], [0.3333333333333333, \"#9c179e\"], [0.4444444444444444, \"#bd3786\"], [0.5555555555555556, \"#d8576b\"], [0.6666666666666666, \"#ed7953\"], [0.7777777777777778, \"#fb9f3a\"], [0.8888888888888888, \"#fdca26\"], [1.0, \"#f0f921\"]], \"type\": \"surface\"}], \"table\": [{\"cells\": {\"fill\": {\"color\": \"#EBF0F8\"}, \"line\": {\"color\": \"white\"}}, \"header\": {\"fill\": {\"color\": \"#C8D4E3\"}, \"line\": {\"color\": \"white\"}}, \"type\": \"table\"}]}, \"layout\": {\"annotationdefaults\": {\"arrowcolor\": \"#2a3f5f\", \"arrowhead\": 0, \"arrowwidth\": 1}, \"coloraxis\": {\"colorbar\": {\"outlinewidth\": 0, \"ticks\": \"\"}}, \"colorscale\": {\"diverging\": [[0, \"#8e0152\"], [0.1, \"#c51b7d\"], [0.2, \"#de77ae\"], [0.3, \"#f1b6da\"], [0.4, \"#fde0ef\"], [0.5, \"#f7f7f7\"], [0.6, \"#e6f5d0\"], [0.7, \"#b8e186\"], [0.8, \"#7fbc41\"], [0.9, \"#4d9221\"], [1, \"#276419\"]], \"sequential\": [[0.0, \"#0d0887\"], [0.1111111111111111, \"#46039f\"], [0.2222222222222222, \"#7201a8\"], [0.3333333333333333, \"#9c179e\"], [0.4444444444444444, \"#bd3786\"], [0.5555555555555556, \"#d8576b\"], [0.6666666666666666, \"#ed7953\"], [0.7777777777777778, \"#fb9f3a\"], [0.8888888888888888, \"#fdca26\"], [1.0, \"#f0f921\"]], \"sequentialminus\": [[0.0, \"#0d0887\"], [0.1111111111111111, \"#46039f\"], [0.2222222222222222, \"#7201a8\"], [0.3333333333333333, \"#9c179e\"], [0.4444444444444444, \"#bd3786\"], [0.5555555555555556, \"#d8576b\"], [0.6666666666666666, \"#ed7953\"], [0.7777777777777778, \"#fb9f3a\"], [0.8888888888888888, \"#fdca26\"], [1.0, \"#f0f921\"]]}, \"colorway\": [\"#636efa\", \"#EF553B\", \"#00cc96\", \"#ab63fa\", \"#FFA15A\", \"#19d3f3\", \"#FF6692\", \"#B6E880\", \"#FF97FF\", \"#FECB52\"], \"font\": {\"color\": \"#2a3f5f\"}, \"geo\": {\"bgcolor\": \"white\", \"lakecolor\": \"white\", \"landcolor\": \"#E5ECF6\", \"showlakes\": true, \"showland\": true, \"subunitcolor\": \"white\"}, \"hoverlabel\": {\"align\": \"left\"}, \"hovermode\": \"closest\", \"mapbox\": {\"style\": \"light\"}, \"paper_bgcolor\": \"white\", \"plot_bgcolor\": \"#E5ECF6\", \"polar\": {\"angularaxis\": {\"gridcolor\": \"white\", \"linecolor\": \"white\", \"ticks\": \"\"}, \"bgcolor\": \"#E5ECF6\", \"radialaxis\": {\"gridcolor\": \"white\", \"linecolor\": \"white\", \"ticks\": \"\"}}, \"scene\": {\"xaxis\": {\"backgroundcolor\": \"#E5ECF6\", \"gridcolor\": \"white\", \"gridwidth\": 2, \"linecolor\": \"white\", \"showbackground\": true, \"ticks\": \"\", \"zerolinecolor\": \"white\"}, \"yaxis\": {\"backgroundcolor\": \"#E5ECF6\", \"gridcolor\": \"white\", \"gridwidth\": 2, \"linecolor\": \"white\", \"showbackground\": true, \"ticks\": \"\", \"zerolinecolor\": \"white\"}, \"zaxis\": {\"backgroundcolor\": \"#E5ECF6\", \"gridcolor\": \"white\", \"gridwidth\": 2, \"linecolor\": \"white\", \"showbackground\": true, \"ticks\": \"\", \"zerolinecolor\": \"white\"}}, \"shapedefaults\": {\"line\": {\"color\": \"#2a3f5f\"}}, \"ternary\": {\"aaxis\": {\"gridcolor\": \"white\", \"linecolor\": \"white\", \"ticks\": \"\"}, \"baxis\": {\"gridcolor\": \"white\", \"linecolor\": \"white\", \"ticks\": \"\"}, \"bgcolor\": \"#E5ECF6\", \"caxis\": {\"gridcolor\": \"white\", \"linecolor\": \"white\", \"ticks\": \"\"}}, \"title\": {\"x\": 0.05}, \"xaxis\": {\"automargin\": true, \"gridcolor\": \"white\", \"linecolor\": \"white\", \"ticks\": \"\", \"title\": {\"standoff\": 15}, \"zerolinecolor\": \"white\", \"zerolinewidth\": 2}, \"yaxis\": {\"automargin\": true, \"gridcolor\": \"white\", \"linecolor\": \"white\", \"ticks\": \"\", \"title\": {\"standoff\": 15}, \"zerolinecolor\": \"white\", \"zerolinewidth\": 2}}}, \"title\": {\"font\": {\"size\": 25}, \"text\": \"Prices\", \"x\": 0.5, \"xanchor\": \"center\"}, \"updatemenus\": [{\"active\": -1, \"buttons\": [{\"args\": [{\"mode\": \"markers\"}], \"label\": \"Markers\", \"method\": \"update\"}, {\"args\": [{\"mode\": \"lines\"}], \"label\": \"Lines\", \"method\": \"update\"}, {\"args\": [{\"mode\": \"markers+lines\"}], \"label\": \"Markers+Lines\", \"method\": \"update\"}], \"direction\": \"right\", \"pad\": {\"r\": 10, \"t\": 87}, \"showactive\": true, \"type\": \"buttons\", \"x\": 0.5, \"xanchor\": \"center\", \"y\": 0.05, \"yanchor\": \"top\"}], \"width\": 1600, \"xaxis\": {\"range\": [\"2019-03-01T00:00:00\", \"2068-03-01T00:00:00\"], \"title\": {\"font\": {\"size\": 10}, \"text\": \"Maturity\"}}, \"yaxis\": {\"fixedrange\": false, \"hoverformat\": \".2f\", \"range\": [90, 160], \"title\": {\"font\": {\"size\": 10}, \"text\": \"Price\"}}},\n",
       "                        {\"responsive\": true}\n",
       "                    ).then(function(){\n",
       "                            \n",
       "var gd = document.getElementById('50215bc2-a6a4-4f67-8d85-fe95944dc572');\n",
       "var x = new MutationObserver(function (mutations, observer) {{\n",
       "        var display = window.getComputedStyle(gd).display;\n",
       "        if (!display || display === 'none') {{\n",
       "            console.log([gd, 'removed!']);\n",
       "            Plotly.purge(gd);\n",
       "            observer.disconnect();\n",
       "        }}\n",
       "}});\n",
       "\n",
       "// Listen for the removal of the full notebook cells\n",
       "var notebookContainer = gd.closest('#notebook-container');\n",
       "if (notebookContainer) {{\n",
       "    x.observe(notebookContainer, {childList: true});\n",
       "}}\n",
       "\n",
       "// Listen for the clearing of the current output cell\n",
       "var outputEl = gd.closest('.output');\n",
       "if (outputEl) {{\n",
       "    x.observe(outputEl, {childList: true});\n",
       "}}\n",
       "\n",
       "                        })\n",
       "                };\n",
       "                });\n",
       "            </script>\n",
       "        </div>"
      ]
     },
     "metadata": {},
     "output_type": "display_data"
    }
   ],
   "source": [
    "po.iplot(prices)"
   ]
  },
  {
   "cell_type": "code",
   "execution_count": 12,
   "metadata": {
    "slideshow": {
     "slide_type": "subslide"
    }
   },
   "outputs": [
    {
     "data": {
      "application/vnd.plotly.v1+json": {
       "config": {
        "linkText": "Export to plot.ly",
        "plotlyServerURL": "https://plot.ly",
        "showLink": false
       },
       "data": [
        {
         "hovertemplate": "<br><b>Yield</b>: %{y:.4p}<br><b>%{text}</b><extra></extra>",
         "line": {
          "color": "Green",
          "dash": "dot",
          "width": 1
         },
         "marker": {
          "color": "Green",
          "size": 5
         },
         "mode": "markers",
         "name": "Bonds YtM",
         "text": [
          "BTP Mar-20, 4.25",
          "BTP May-20, 0.7",
          "BTP Jun-20, 0.35",
          "BTP Sep-20, 4",
          "BTP Oct-20, 0.2",
          "BTP Nov-20, 0.65",
          "BTP Mar-21, 3.75",
          "BTP Apr-21, 0.05",
          "BTP May-21, 3.75",
          "BTP Jun-21, 0.45",
          "BTP Aug-21, 3.75",
          "BTP Sep-21, 4.75",
          "BTP Oct-21, 2.3",
          "BTP Nov-21, 0.35",
          "BTP Dec-21, 2.15",
          "BTP Mar-22, 5",
          "BTP Apr-22, 1.2",
          "BTP Apr-22, 1.35",
          "BTP Jul-22, 1",
          "BTP Aug-22, 0.9",
          "BTP Sep-22, 5.5",
          "BTP Sep-22, 1.45",
          "BTP Nov-22, 5.5",
          "BTP Jan-23, 0.05",
          "BTP Mar-23, 0.95",
          "BTP Mar-23, 0.95",
          "BTP May-23, 4.5",
          "BTP Aug-23, 4.75",
          "BTP Oct-23, 2.45",
          "BTP Oct-23, 0.65",
          "BTP Nov-23, 9",
          "BTP Dec-23, 8.5",
          "BTP Mar-24, 4.5",
          "BTP May-24, 1.85",
          "BTP Jul-24, 1.75",
          "BTP Sep-24, 3.75",
          "BTP Nov-24, 1.45",
          "BTP Dec-24, 2.5",
          "BTP Feb-25, 0.35",
          "BTP Mar-25, 5",
          "BTP May-25, 1.45",
          "BTP Jun-25, 1.5",
          "BTP Nov-25, 2.5",
          "BTP Dec-25, 2",
          "BTP Mar-26, 4.5",
          "BTP Jun-26, 1.6",
          "BTP Jul-26, 2.1",
          "BTP Nov-26, 7.25",
          "BTP Dec-26, 1.25",
          "BTP Jan-27, 0.85",
          "BTP Jun-27, 2.2",
          "BTP Aug-27, 2.05",
          "BTP Nov-27, 6.5",
          "BTP Feb-28, 2",
          "BTP Sep-28, 4.75",
          "BTP Dec-28, 2.8",
          "BTP Aug-29, 3",
          "BTP Nov-29, 5.25",
          "BTP Mar-30, 3.5",
          "BTP Apr-30, 1.35",
          "BTP May-31, 6",
          "BTP Mar-32, 1.65",
          "BTP Feb-33, 5.75",
          "BTP Sep-33, 2.45",
          "BTP Aug-34, 5",
          "BTP Mar-35, 3.35",
          "BTP Sep-36, 2.25",
          "BTP Feb-37, 4",
          "BTP Sep-38, 2.95",
          "BTP Aug-39, 5",
          "BTP Mar-40, 3.1",
          "BTP Sep-40, 5",
          "BTP Sep-44, 4.75",
          "BTP Sep-46, 3.25",
          "BTP Mar-47, 2.7",
          "BTP Mar-48, 3.45",
          "BTP Sep-49, 3.85",
          "BTP Sep-50, 2.45",
          "BTP Mar-67, 2.8"
         ],
         "type": "scatter",
         "uid": "105c78a8-d603-421d-bc9b-d58afc7bb40a",
         "x": [
          "2020-03-01T00:00:00",
          "2020-05-01T00:00:00",
          "2020-06-15T00:00:00",
          "2020-09-01T00:00:00",
          "2020-10-15T00:00:00",
          "2020-11-01T00:00:00",
          "2021-03-01T00:00:00",
          "2021-04-15T00:00:00",
          "2021-05-01T00:00:00",
          "2021-06-01T00:00:00",
          "2021-08-01T00:00:00",
          "2021-09-01T00:00:00",
          "2021-10-15T00:00:00",
          "2021-11-01T00:00:00",
          "2021-12-15T00:00:00",
          "2022-03-01T00:00:00",
          "2022-04-01T00:00:00",
          "2022-04-15T00:00:00",
          "2022-07-15T00:00:00",
          "2022-08-01T00:00:00",
          "2022-09-01T00:00:00",
          "2022-09-15T00:00:00",
          "2022-11-01T00:00:00",
          "2023-01-15T00:00:00",
          "2023-03-01T00:00:00",
          "2023-03-15T00:00:00",
          "2023-05-01T00:00:00",
          "2023-08-01T00:00:00",
          "2023-10-01T00:00:00",
          "2023-10-15T00:00:00",
          "2023-11-01T00:00:00",
          "2023-12-22T00:00:00",
          "2024-03-01T00:00:00",
          "2024-05-15T00:00:00",
          "2024-07-01T00:00:00",
          "2024-09-01T00:00:00",
          "2024-11-15T00:00:00",
          "2024-12-01T00:00:00",
          "2025-02-01T00:00:00",
          "2025-03-01T00:00:00",
          "2025-05-15T00:00:00",
          "2025-06-01T00:00:00",
          "2025-11-15T00:00:00",
          "2025-12-01T00:00:00",
          "2026-03-01T00:00:00",
          "2026-06-01T00:00:00",
          "2026-07-15T00:00:00",
          "2026-11-01T00:00:00",
          "2026-12-01T00:00:00",
          "2027-01-15T00:00:00",
          "2027-06-01T00:00:00",
          "2027-08-01T00:00:00",
          "2027-11-01T00:00:00",
          "2028-02-01T00:00:00",
          "2028-09-01T00:00:00",
          "2028-12-01T00:00:00",
          "2029-08-01T00:00:00",
          "2029-11-01T00:00:00",
          "2030-03-01T00:00:00",
          "2030-04-01T00:00:00",
          "2031-05-01T00:00:00",
          "2032-03-01T00:00:00",
          "2033-02-01T00:00:00",
          "2033-09-01T00:00:00",
          "2034-08-01T00:00:00",
          "2035-03-01T00:00:00",
          "2036-09-01T00:00:00",
          "2037-02-01T00:00:00",
          "2038-09-01T00:00:00",
          "2039-08-01T00:00:00",
          "2040-03-01T00:00:00",
          "2040-09-01T00:00:00",
          "2044-09-01T00:00:00",
          "2046-09-01T00:00:00",
          "2047-03-01T00:00:00",
          "2048-03-01T00:00:00",
          "2049-09-01T00:00:00",
          "2050-09-01T00:00:00",
          "2067-03-01T00:00:00"
         ],
         "y": [
          -0.004,
          -0.00373,
          -0.0034700000000000004,
          -0.00346,
          -0.00352,
          -0.0035299999999999997,
          -0.0032,
          -0.0027199999999999998,
          -0.00278,
          -0.0026,
          -0.00246,
          -0.00235,
          -0.0021100000000000003,
          -0.00213,
          -0.0020800000000000003,
          -0.00187,
          -0.0015400000000000001,
          -0.0012699999999999999,
          -0.0010400000000000001,
          -0.001,
          -0.0008900000000000001,
          -0.0008699999999999999,
          -0.00057,
          -0.0001,
          0.00022999999999999998,
          0.00015,
          0.00047000000000000004,
          0.00063,
          0.0011099999999999999,
          0.00072,
          0.00107,
          0.0020399999999999997,
          0.00179,
          0.0019399999999999999,
          0.00229,
          0.00251,
          0.00257,
          0.00286,
          0.00323,
          0.00322,
          0.0036299999999999995,
          0.0036799999999999997,
          0.00442,
          0.00433,
          0.00474,
          0.00492,
          0.00532,
          0.0057,
          0.0055899999999999995,
          0.00602,
          0.00655,
          0.00677,
          0.0071200000000000005,
          0.0071400000000000005,
          0.00783,
          0.008190000000000001,
          0.00884,
          0.00921,
          0.009609999999999999,
          0.00971,
          0.01078,
          0.01144,
          0.0127,
          0.01296,
          0.01383,
          0.01439,
          0.015019999999999999,
          0.015619999999999998,
          0.01645,
          0.01684,
          0.017419999999999998,
          0.01772,
          0.019030000000000002,
          0.019209999999999998,
          0.01923,
          0.01951,
          0.02009,
          0.0203,
          0.022330000000000003
         ]
        }
       ],
       "layout": {
        "height": 800,
        "showlegend": false,
        "template": {
         "data": {
          "bar": [
           {
            "error_x": {
             "color": "#2a3f5f"
            },
            "error_y": {
             "color": "#2a3f5f"
            },
            "marker": {
             "line": {
              "color": "#E5ECF6",
              "width": 0.5
             }
            },
            "type": "bar"
           }
          ],
          "barpolar": [
           {
            "marker": {
             "line": {
              "color": "#E5ECF6",
              "width": 0.5
             }
            },
            "type": "barpolar"
           }
          ],
          "carpet": [
           {
            "aaxis": {
             "endlinecolor": "#2a3f5f",
             "gridcolor": "white",
             "linecolor": "white",
             "minorgridcolor": "white",
             "startlinecolor": "#2a3f5f"
            },
            "baxis": {
             "endlinecolor": "#2a3f5f",
             "gridcolor": "white",
             "linecolor": "white",
             "minorgridcolor": "white",
             "startlinecolor": "#2a3f5f"
            },
            "type": "carpet"
           }
          ],
          "choropleth": [
           {
            "colorbar": {
             "outlinewidth": 0,
             "ticks": ""
            },
            "type": "choropleth"
           }
          ],
          "contour": [
           {
            "colorbar": {
             "outlinewidth": 0,
             "ticks": ""
            },
            "colorscale": [
             [
              0,
              "#0d0887"
             ],
             [
              0.1111111111111111,
              "#46039f"
             ],
             [
              0.2222222222222222,
              "#7201a8"
             ],
             [
              0.3333333333333333,
              "#9c179e"
             ],
             [
              0.4444444444444444,
              "#bd3786"
             ],
             [
              0.5555555555555556,
              "#d8576b"
             ],
             [
              0.6666666666666666,
              "#ed7953"
             ],
             [
              0.7777777777777778,
              "#fb9f3a"
             ],
             [
              0.8888888888888888,
              "#fdca26"
             ],
             [
              1,
              "#f0f921"
             ]
            ],
            "type": "contour"
           }
          ],
          "contourcarpet": [
           {
            "colorbar": {
             "outlinewidth": 0,
             "ticks": ""
            },
            "type": "contourcarpet"
           }
          ],
          "heatmap": [
           {
            "colorbar": {
             "outlinewidth": 0,
             "ticks": ""
            },
            "colorscale": [
             [
              0,
              "#0d0887"
             ],
             [
              0.1111111111111111,
              "#46039f"
             ],
             [
              0.2222222222222222,
              "#7201a8"
             ],
             [
              0.3333333333333333,
              "#9c179e"
             ],
             [
              0.4444444444444444,
              "#bd3786"
             ],
             [
              0.5555555555555556,
              "#d8576b"
             ],
             [
              0.6666666666666666,
              "#ed7953"
             ],
             [
              0.7777777777777778,
              "#fb9f3a"
             ],
             [
              0.8888888888888888,
              "#fdca26"
             ],
             [
              1,
              "#f0f921"
             ]
            ],
            "type": "heatmap"
           }
          ],
          "heatmapgl": [
           {
            "colorbar": {
             "outlinewidth": 0,
             "ticks": ""
            },
            "colorscale": [
             [
              0,
              "#0d0887"
             ],
             [
              0.1111111111111111,
              "#46039f"
             ],
             [
              0.2222222222222222,
              "#7201a8"
             ],
             [
              0.3333333333333333,
              "#9c179e"
             ],
             [
              0.4444444444444444,
              "#bd3786"
             ],
             [
              0.5555555555555556,
              "#d8576b"
             ],
             [
              0.6666666666666666,
              "#ed7953"
             ],
             [
              0.7777777777777778,
              "#fb9f3a"
             ],
             [
              0.8888888888888888,
              "#fdca26"
             ],
             [
              1,
              "#f0f921"
             ]
            ],
            "type": "heatmapgl"
           }
          ],
          "histogram": [
           {
            "marker": {
             "colorbar": {
              "outlinewidth": 0,
              "ticks": ""
             }
            },
            "type": "histogram"
           }
          ],
          "histogram2d": [
           {
            "colorbar": {
             "outlinewidth": 0,
             "ticks": ""
            },
            "colorscale": [
             [
              0,
              "#0d0887"
             ],
             [
              0.1111111111111111,
              "#46039f"
             ],
             [
              0.2222222222222222,
              "#7201a8"
             ],
             [
              0.3333333333333333,
              "#9c179e"
             ],
             [
              0.4444444444444444,
              "#bd3786"
             ],
             [
              0.5555555555555556,
              "#d8576b"
             ],
             [
              0.6666666666666666,
              "#ed7953"
             ],
             [
              0.7777777777777778,
              "#fb9f3a"
             ],
             [
              0.8888888888888888,
              "#fdca26"
             ],
             [
              1,
              "#f0f921"
             ]
            ],
            "type": "histogram2d"
           }
          ],
          "histogram2dcontour": [
           {
            "colorbar": {
             "outlinewidth": 0,
             "ticks": ""
            },
            "colorscale": [
             [
              0,
              "#0d0887"
             ],
             [
              0.1111111111111111,
              "#46039f"
             ],
             [
              0.2222222222222222,
              "#7201a8"
             ],
             [
              0.3333333333333333,
              "#9c179e"
             ],
             [
              0.4444444444444444,
              "#bd3786"
             ],
             [
              0.5555555555555556,
              "#d8576b"
             ],
             [
              0.6666666666666666,
              "#ed7953"
             ],
             [
              0.7777777777777778,
              "#fb9f3a"
             ],
             [
              0.8888888888888888,
              "#fdca26"
             ],
             [
              1,
              "#f0f921"
             ]
            ],
            "type": "histogram2dcontour"
           }
          ],
          "mesh3d": [
           {
            "colorbar": {
             "outlinewidth": 0,
             "ticks": ""
            },
            "type": "mesh3d"
           }
          ],
          "parcoords": [
           {
            "line": {
             "colorbar": {
              "outlinewidth": 0,
              "ticks": ""
             }
            },
            "type": "parcoords"
           }
          ],
          "pie": [
           {
            "automargin": true,
            "type": "pie"
           }
          ],
          "scatter": [
           {
            "marker": {
             "colorbar": {
              "outlinewidth": 0,
              "ticks": ""
             }
            },
            "type": "scatter"
           }
          ],
          "scatter3d": [
           {
            "line": {
             "colorbar": {
              "outlinewidth": 0,
              "ticks": ""
             }
            },
            "marker": {
             "colorbar": {
              "outlinewidth": 0,
              "ticks": ""
             }
            },
            "type": "scatter3d"
           }
          ],
          "scattercarpet": [
           {
            "marker": {
             "colorbar": {
              "outlinewidth": 0,
              "ticks": ""
             }
            },
            "type": "scattercarpet"
           }
          ],
          "scattergeo": [
           {
            "marker": {
             "colorbar": {
              "outlinewidth": 0,
              "ticks": ""
             }
            },
            "type": "scattergeo"
           }
          ],
          "scattergl": [
           {
            "marker": {
             "colorbar": {
              "outlinewidth": 0,
              "ticks": ""
             }
            },
            "type": "scattergl"
           }
          ],
          "scattermapbox": [
           {
            "marker": {
             "colorbar": {
              "outlinewidth": 0,
              "ticks": ""
             }
            },
            "type": "scattermapbox"
           }
          ],
          "scatterpolar": [
           {
            "marker": {
             "colorbar": {
              "outlinewidth": 0,
              "ticks": ""
             }
            },
            "type": "scatterpolar"
           }
          ],
          "scatterpolargl": [
           {
            "marker": {
             "colorbar": {
              "outlinewidth": 0,
              "ticks": ""
             }
            },
            "type": "scatterpolargl"
           }
          ],
          "scatterternary": [
           {
            "marker": {
             "colorbar": {
              "outlinewidth": 0,
              "ticks": ""
             }
            },
            "type": "scatterternary"
           }
          ],
          "surface": [
           {
            "colorbar": {
             "outlinewidth": 0,
             "ticks": ""
            },
            "colorscale": [
             [
              0,
              "#0d0887"
             ],
             [
              0.1111111111111111,
              "#46039f"
             ],
             [
              0.2222222222222222,
              "#7201a8"
             ],
             [
              0.3333333333333333,
              "#9c179e"
             ],
             [
              0.4444444444444444,
              "#bd3786"
             ],
             [
              0.5555555555555556,
              "#d8576b"
             ],
             [
              0.6666666666666666,
              "#ed7953"
             ],
             [
              0.7777777777777778,
              "#fb9f3a"
             ],
             [
              0.8888888888888888,
              "#fdca26"
             ],
             [
              1,
              "#f0f921"
             ]
            ],
            "type": "surface"
           }
          ],
          "table": [
           {
            "cells": {
             "fill": {
              "color": "#EBF0F8"
             },
             "line": {
              "color": "white"
             }
            },
            "header": {
             "fill": {
              "color": "#C8D4E3"
             },
             "line": {
              "color": "white"
             }
            },
            "type": "table"
           }
          ]
         },
         "layout": {
          "annotationdefaults": {
           "arrowcolor": "#2a3f5f",
           "arrowhead": 0,
           "arrowwidth": 1
          },
          "coloraxis": {
           "colorbar": {
            "outlinewidth": 0,
            "ticks": ""
           }
          },
          "colorscale": {
           "diverging": [
            [
             0,
             "#8e0152"
            ],
            [
             0.1,
             "#c51b7d"
            ],
            [
             0.2,
             "#de77ae"
            ],
            [
             0.3,
             "#f1b6da"
            ],
            [
             0.4,
             "#fde0ef"
            ],
            [
             0.5,
             "#f7f7f7"
            ],
            [
             0.6,
             "#e6f5d0"
            ],
            [
             0.7,
             "#b8e186"
            ],
            [
             0.8,
             "#7fbc41"
            ],
            [
             0.9,
             "#4d9221"
            ],
            [
             1,
             "#276419"
            ]
           ],
           "sequential": [
            [
             0,
             "#0d0887"
            ],
            [
             0.1111111111111111,
             "#46039f"
            ],
            [
             0.2222222222222222,
             "#7201a8"
            ],
            [
             0.3333333333333333,
             "#9c179e"
            ],
            [
             0.4444444444444444,
             "#bd3786"
            ],
            [
             0.5555555555555556,
             "#d8576b"
            ],
            [
             0.6666666666666666,
             "#ed7953"
            ],
            [
             0.7777777777777778,
             "#fb9f3a"
            ],
            [
             0.8888888888888888,
             "#fdca26"
            ],
            [
             1,
             "#f0f921"
            ]
           ],
           "sequentialminus": [
            [
             0,
             "#0d0887"
            ],
            [
             0.1111111111111111,
             "#46039f"
            ],
            [
             0.2222222222222222,
             "#7201a8"
            ],
            [
             0.3333333333333333,
             "#9c179e"
            ],
            [
             0.4444444444444444,
             "#bd3786"
            ],
            [
             0.5555555555555556,
             "#d8576b"
            ],
            [
             0.6666666666666666,
             "#ed7953"
            ],
            [
             0.7777777777777778,
             "#fb9f3a"
            ],
            [
             0.8888888888888888,
             "#fdca26"
            ],
            [
             1,
             "#f0f921"
            ]
           ]
          },
          "colorway": [
           "#636efa",
           "#EF553B",
           "#00cc96",
           "#ab63fa",
           "#FFA15A",
           "#19d3f3",
           "#FF6692",
           "#B6E880",
           "#FF97FF",
           "#FECB52"
          ],
          "font": {
           "color": "#2a3f5f"
          },
          "geo": {
           "bgcolor": "white",
           "lakecolor": "white",
           "landcolor": "#E5ECF6",
           "showlakes": true,
           "showland": true,
           "subunitcolor": "white"
          },
          "hoverlabel": {
           "align": "left"
          },
          "hovermode": "closest",
          "mapbox": {
           "style": "light"
          },
          "paper_bgcolor": "white",
          "plot_bgcolor": "#E5ECF6",
          "polar": {
           "angularaxis": {
            "gridcolor": "white",
            "linecolor": "white",
            "ticks": ""
           },
           "bgcolor": "#E5ECF6",
           "radialaxis": {
            "gridcolor": "white",
            "linecolor": "white",
            "ticks": ""
           }
          },
          "scene": {
           "xaxis": {
            "backgroundcolor": "#E5ECF6",
            "gridcolor": "white",
            "gridwidth": 2,
            "linecolor": "white",
            "showbackground": true,
            "ticks": "",
            "zerolinecolor": "white"
           },
           "yaxis": {
            "backgroundcolor": "#E5ECF6",
            "gridcolor": "white",
            "gridwidth": 2,
            "linecolor": "white",
            "showbackground": true,
            "ticks": "",
            "zerolinecolor": "white"
           },
           "zaxis": {
            "backgroundcolor": "#E5ECF6",
            "gridcolor": "white",
            "gridwidth": 2,
            "linecolor": "white",
            "showbackground": true,
            "ticks": "",
            "zerolinecolor": "white"
           }
          },
          "shapedefaults": {
           "line": {
            "color": "#2a3f5f"
           }
          },
          "ternary": {
           "aaxis": {
            "gridcolor": "white",
            "linecolor": "white",
            "ticks": ""
           },
           "baxis": {
            "gridcolor": "white",
            "linecolor": "white",
            "ticks": ""
           },
           "bgcolor": "#E5ECF6",
           "caxis": {
            "gridcolor": "white",
            "linecolor": "white",
            "ticks": ""
           }
          },
          "title": {
           "x": 0.05
          },
          "xaxis": {
           "automargin": true,
           "gridcolor": "white",
           "linecolor": "white",
           "ticks": "",
           "title": {
            "standoff": 15
           },
           "zerolinecolor": "white",
           "zerolinewidth": 2
          },
          "yaxis": {
           "automargin": true,
           "gridcolor": "white",
           "linecolor": "white",
           "ticks": "",
           "title": {
            "standoff": 15
           },
           "zerolinecolor": "white",
           "zerolinewidth": 2
          }
         }
        },
        "title": {
         "font": {
          "size": 25
         },
         "text": "Yield-to-Maturity",
         "x": 0.5,
         "xanchor": "center"
        },
        "updatemenus": [
         {
          "active": -1,
          "buttons": [
           {
            "args": [
             {
              "mode": "markers"
             }
            ],
            "label": "Markers",
            "method": "update"
           },
           {
            "args": [
             {
              "mode": "lines"
             }
            ],
            "label": "Lines",
            "method": "update"
           },
           {
            "args": [
             {
              "mode": "markers+lines"
             }
            ],
            "label": "Markers+Lines",
            "method": "update"
           }
          ],
          "direction": "right",
          "pad": {
           "r": 10,
           "t": 87
          },
          "showactive": true,
          "type": "buttons",
          "x": 0.5,
          "xanchor": "center",
          "y": 0.05,
          "yanchor": "top"
         }
        ],
        "width": 1600,
        "xaxis": {
         "range": [
          "2019-03-01T00:00:00",
          "2068-03-01T00:00:00"
         ],
         "title": {
          "font": {
           "size": 15
          },
          "text": "Maturity"
         }
        },
        "yaxis": {
         "fixedrange": false,
         "hoverformat": ".4p",
         "range": [
          -0.005,
          0.0225
         ],
         "tickformat": ".2p",
         "title": {
          "font": {
           "size": 15
          },
          "text": "Yield-to-Maturity"
         }
        }
       }
      },
      "text/html": [
       "<div>\n",
       "        \n",
       "        \n",
       "            <div id=\"7407bef6-e558-4248-b29c-7263a6a5c317\" class=\"plotly-graph-div\" style=\"height:800px; width:1600px;\"></div>\n",
       "            <script type=\"text/javascript\">\n",
       "                require([\"plotly\"], function(Plotly) {\n",
       "                    window.PLOTLYENV=window.PLOTLYENV || {};\n",
       "                    \n",
       "                if (document.getElementById(\"7407bef6-e558-4248-b29c-7263a6a5c317\")) {\n",
       "                    Plotly.newPlot(\n",
       "                        '7407bef6-e558-4248-b29c-7263a6a5c317',\n",
       "                        [{\"hovertemplate\": \"<br><b>Yield</b>: %{y:.4p}<br><b>%{text}</b><extra></extra>\", \"line\": {\"color\": \"Green\", \"dash\": \"dot\", \"width\": 1}, \"marker\": {\"color\": \"Green\", \"size\": 5}, \"mode\": \"markers\", \"name\": \"Bonds YtM\", \"text\": [\"BTP Mar-20, 4.25\", \"BTP May-20, 0.7\", \"BTP Jun-20, 0.35\", \"BTP Sep-20, 4\", \"BTP Oct-20, 0.2\", \"BTP Nov-20, 0.65\", \"BTP Mar-21, 3.75\", \"BTP Apr-21, 0.05\", \"BTP May-21, 3.75\", \"BTP Jun-21, 0.45\", \"BTP Aug-21, 3.75\", \"BTP Sep-21, 4.75\", \"BTP Oct-21, 2.3\", \"BTP Nov-21, 0.35\", \"BTP Dec-21, 2.15\", \"BTP Mar-22, 5\", \"BTP Apr-22, 1.2\", \"BTP Apr-22, 1.35\", \"BTP Jul-22, 1\", \"BTP Aug-22, 0.9\", \"BTP Sep-22, 5.5\", \"BTP Sep-22, 1.45\", \"BTP Nov-22, 5.5\", \"BTP Jan-23, 0.05\", \"BTP Mar-23, 0.95\", \"BTP Mar-23, 0.95\", \"BTP May-23, 4.5\", \"BTP Aug-23, 4.75\", \"BTP Oct-23, 2.45\", \"BTP Oct-23, 0.65\", \"BTP Nov-23, 9\", \"BTP Dec-23, 8.5\", \"BTP Mar-24, 4.5\", \"BTP May-24, 1.85\", \"BTP Jul-24, 1.75\", \"BTP Sep-24, 3.75\", \"BTP Nov-24, 1.45\", \"BTP Dec-24, 2.5\", \"BTP Feb-25, 0.35\", \"BTP Mar-25, 5\", \"BTP May-25, 1.45\", \"BTP Jun-25, 1.5\", \"BTP Nov-25, 2.5\", \"BTP Dec-25, 2\", \"BTP Mar-26, 4.5\", \"BTP Jun-26, 1.6\", \"BTP Jul-26, 2.1\", \"BTP Nov-26, 7.25\", \"BTP Dec-26, 1.25\", \"BTP Jan-27, 0.85\", \"BTP Jun-27, 2.2\", \"BTP Aug-27, 2.05\", \"BTP Nov-27, 6.5\", \"BTP Feb-28, 2\", \"BTP Sep-28, 4.75\", \"BTP Dec-28, 2.8\", \"BTP Aug-29, 3\", \"BTP Nov-29, 5.25\", \"BTP Mar-30, 3.5\", \"BTP Apr-30, 1.35\", \"BTP May-31, 6\", \"BTP Mar-32, 1.65\", \"BTP Feb-33, 5.75\", \"BTP Sep-33, 2.45\", \"BTP Aug-34, 5\", \"BTP Mar-35, 3.35\", \"BTP Sep-36, 2.25\", \"BTP Feb-37, 4\", \"BTP Sep-38, 2.95\", \"BTP Aug-39, 5\", \"BTP Mar-40, 3.1\", \"BTP Sep-40, 5\", \"BTP Sep-44, 4.75\", \"BTP Sep-46, 3.25\", \"BTP Mar-47, 2.7\", \"BTP Mar-48, 3.45\", \"BTP Sep-49, 3.85\", \"BTP Sep-50, 2.45\", \"BTP Mar-67, 2.8\"], \"type\": \"scatter\", \"uid\": \"105c78a8-d603-421d-bc9b-d58afc7bb40a\", \"x\": [\"2020-03-01T00:00:00\", \"2020-05-01T00:00:00\", \"2020-06-15T00:00:00\", \"2020-09-01T00:00:00\", \"2020-10-15T00:00:00\", \"2020-11-01T00:00:00\", \"2021-03-01T00:00:00\", \"2021-04-15T00:00:00\", \"2021-05-01T00:00:00\", \"2021-06-01T00:00:00\", \"2021-08-01T00:00:00\", \"2021-09-01T00:00:00\", \"2021-10-15T00:00:00\", \"2021-11-01T00:00:00\", \"2021-12-15T00:00:00\", \"2022-03-01T00:00:00\", \"2022-04-01T00:00:00\", \"2022-04-15T00:00:00\", \"2022-07-15T00:00:00\", \"2022-08-01T00:00:00\", \"2022-09-01T00:00:00\", \"2022-09-15T00:00:00\", \"2022-11-01T00:00:00\", \"2023-01-15T00:00:00\", \"2023-03-01T00:00:00\", \"2023-03-15T00:00:00\", \"2023-05-01T00:00:00\", \"2023-08-01T00:00:00\", \"2023-10-01T00:00:00\", \"2023-10-15T00:00:00\", \"2023-11-01T00:00:00\", \"2023-12-22T00:00:00\", \"2024-03-01T00:00:00\", \"2024-05-15T00:00:00\", \"2024-07-01T00:00:00\", \"2024-09-01T00:00:00\", \"2024-11-15T00:00:00\", \"2024-12-01T00:00:00\", \"2025-02-01T00:00:00\", \"2025-03-01T00:00:00\", \"2025-05-15T00:00:00\", \"2025-06-01T00:00:00\", \"2025-11-15T00:00:00\", \"2025-12-01T00:00:00\", \"2026-03-01T00:00:00\", \"2026-06-01T00:00:00\", \"2026-07-15T00:00:00\", \"2026-11-01T00:00:00\", \"2026-12-01T00:00:00\", \"2027-01-15T00:00:00\", \"2027-06-01T00:00:00\", \"2027-08-01T00:00:00\", \"2027-11-01T00:00:00\", \"2028-02-01T00:00:00\", \"2028-09-01T00:00:00\", \"2028-12-01T00:00:00\", \"2029-08-01T00:00:00\", \"2029-11-01T00:00:00\", \"2030-03-01T00:00:00\", \"2030-04-01T00:00:00\", \"2031-05-01T00:00:00\", \"2032-03-01T00:00:00\", \"2033-02-01T00:00:00\", \"2033-09-01T00:00:00\", \"2034-08-01T00:00:00\", \"2035-03-01T00:00:00\", \"2036-09-01T00:00:00\", \"2037-02-01T00:00:00\", \"2038-09-01T00:00:00\", \"2039-08-01T00:00:00\", \"2040-03-01T00:00:00\", \"2040-09-01T00:00:00\", \"2044-09-01T00:00:00\", \"2046-09-01T00:00:00\", \"2047-03-01T00:00:00\", \"2048-03-01T00:00:00\", \"2049-09-01T00:00:00\", \"2050-09-01T00:00:00\", \"2067-03-01T00:00:00\"], \"y\": [-0.004, -0.00373, -0.0034700000000000004, -0.00346, -0.00352, -0.0035299999999999997, -0.0032, -0.0027199999999999998, -0.00278, -0.0026, -0.00246, -0.00235, -0.0021100000000000003, -0.00213, -0.0020800000000000003, -0.00187, -0.0015400000000000001, -0.0012699999999999999, -0.0010400000000000001, -0.001, -0.0008900000000000001, -0.0008699999999999999, -0.00057, -0.0001, 0.00022999999999999998, 0.00015, 0.00047000000000000004, 0.00063, 0.0011099999999999999, 0.00072, 0.00107, 0.0020399999999999997, 0.00179, 0.0019399999999999999, 0.00229, 0.00251, 0.00257, 0.00286, 0.00323, 0.00322, 0.0036299999999999995, 0.0036799999999999997, 0.00442, 0.00433, 0.00474, 0.00492, 0.00532, 0.0057, 0.0055899999999999995, 0.00602, 0.00655, 0.00677, 0.0071200000000000005, 0.0071400000000000005, 0.00783, 0.008190000000000001, 0.00884, 0.00921, 0.009609999999999999, 0.00971, 0.01078, 0.01144, 0.0127, 0.01296, 0.01383, 0.01439, 0.015019999999999999, 0.015619999999999998, 0.01645, 0.01684, 0.017419999999999998, 0.01772, 0.019030000000000002, 0.019209999999999998, 0.01923, 0.01951, 0.02009, 0.0203, 0.022330000000000003]}],\n",
       "                        {\"height\": 800, \"showlegend\": false, \"template\": {\"data\": {\"bar\": [{\"error_x\": {\"color\": \"#2a3f5f\"}, \"error_y\": {\"color\": \"#2a3f5f\"}, \"marker\": {\"line\": {\"color\": \"#E5ECF6\", \"width\": 0.5}}, \"type\": \"bar\"}], \"barpolar\": [{\"marker\": {\"line\": {\"color\": \"#E5ECF6\", \"width\": 0.5}}, \"type\": \"barpolar\"}], \"carpet\": [{\"aaxis\": {\"endlinecolor\": \"#2a3f5f\", \"gridcolor\": \"white\", \"linecolor\": \"white\", \"minorgridcolor\": \"white\", \"startlinecolor\": \"#2a3f5f\"}, \"baxis\": {\"endlinecolor\": \"#2a3f5f\", \"gridcolor\": \"white\", \"linecolor\": \"white\", \"minorgridcolor\": \"white\", \"startlinecolor\": \"#2a3f5f\"}, \"type\": \"carpet\"}], \"choropleth\": [{\"colorbar\": {\"outlinewidth\": 0, \"ticks\": \"\"}, \"type\": \"choropleth\"}], \"contour\": [{\"colorbar\": {\"outlinewidth\": 0, \"ticks\": \"\"}, \"colorscale\": [[0.0, \"#0d0887\"], [0.1111111111111111, \"#46039f\"], [0.2222222222222222, \"#7201a8\"], [0.3333333333333333, \"#9c179e\"], [0.4444444444444444, \"#bd3786\"], [0.5555555555555556, \"#d8576b\"], [0.6666666666666666, \"#ed7953\"], [0.7777777777777778, \"#fb9f3a\"], [0.8888888888888888, \"#fdca26\"], [1.0, \"#f0f921\"]], \"type\": \"contour\"}], \"contourcarpet\": [{\"colorbar\": {\"outlinewidth\": 0, \"ticks\": \"\"}, \"type\": \"contourcarpet\"}], \"heatmap\": [{\"colorbar\": {\"outlinewidth\": 0, \"ticks\": \"\"}, \"colorscale\": [[0.0, \"#0d0887\"], [0.1111111111111111, \"#46039f\"], [0.2222222222222222, \"#7201a8\"], [0.3333333333333333, \"#9c179e\"], [0.4444444444444444, \"#bd3786\"], [0.5555555555555556, \"#d8576b\"], [0.6666666666666666, \"#ed7953\"], [0.7777777777777778, \"#fb9f3a\"], [0.8888888888888888, \"#fdca26\"], [1.0, \"#f0f921\"]], \"type\": \"heatmap\"}], \"heatmapgl\": [{\"colorbar\": {\"outlinewidth\": 0, \"ticks\": \"\"}, \"colorscale\": [[0.0, \"#0d0887\"], [0.1111111111111111, \"#46039f\"], [0.2222222222222222, \"#7201a8\"], [0.3333333333333333, \"#9c179e\"], [0.4444444444444444, \"#bd3786\"], [0.5555555555555556, \"#d8576b\"], [0.6666666666666666, \"#ed7953\"], [0.7777777777777778, \"#fb9f3a\"], [0.8888888888888888, \"#fdca26\"], [1.0, \"#f0f921\"]], \"type\": \"heatmapgl\"}], \"histogram\": [{\"marker\": {\"colorbar\": {\"outlinewidth\": 0, \"ticks\": \"\"}}, \"type\": \"histogram\"}], \"histogram2d\": [{\"colorbar\": {\"outlinewidth\": 0, \"ticks\": \"\"}, \"colorscale\": [[0.0, \"#0d0887\"], [0.1111111111111111, \"#46039f\"], [0.2222222222222222, \"#7201a8\"], [0.3333333333333333, \"#9c179e\"], [0.4444444444444444, \"#bd3786\"], [0.5555555555555556, \"#d8576b\"], [0.6666666666666666, \"#ed7953\"], [0.7777777777777778, \"#fb9f3a\"], [0.8888888888888888, \"#fdca26\"], [1.0, \"#f0f921\"]], \"type\": \"histogram2d\"}], \"histogram2dcontour\": [{\"colorbar\": {\"outlinewidth\": 0, \"ticks\": \"\"}, \"colorscale\": [[0.0, \"#0d0887\"], [0.1111111111111111, \"#46039f\"], [0.2222222222222222, \"#7201a8\"], [0.3333333333333333, \"#9c179e\"], [0.4444444444444444, \"#bd3786\"], [0.5555555555555556, \"#d8576b\"], [0.6666666666666666, \"#ed7953\"], [0.7777777777777778, \"#fb9f3a\"], [0.8888888888888888, \"#fdca26\"], [1.0, \"#f0f921\"]], \"type\": \"histogram2dcontour\"}], \"mesh3d\": [{\"colorbar\": {\"outlinewidth\": 0, \"ticks\": \"\"}, \"type\": \"mesh3d\"}], \"parcoords\": [{\"line\": {\"colorbar\": {\"outlinewidth\": 0, \"ticks\": \"\"}}, \"type\": \"parcoords\"}], \"pie\": [{\"automargin\": true, \"type\": \"pie\"}], \"scatter\": [{\"marker\": {\"colorbar\": {\"outlinewidth\": 0, \"ticks\": \"\"}}, \"type\": \"scatter\"}], \"scatter3d\": [{\"line\": {\"colorbar\": {\"outlinewidth\": 0, \"ticks\": \"\"}}, \"marker\": {\"colorbar\": {\"outlinewidth\": 0, \"ticks\": \"\"}}, \"type\": \"scatter3d\"}], \"scattercarpet\": [{\"marker\": {\"colorbar\": {\"outlinewidth\": 0, \"ticks\": \"\"}}, \"type\": \"scattercarpet\"}], \"scattergeo\": [{\"marker\": {\"colorbar\": {\"outlinewidth\": 0, \"ticks\": \"\"}}, \"type\": \"scattergeo\"}], \"scattergl\": [{\"marker\": {\"colorbar\": {\"outlinewidth\": 0, \"ticks\": \"\"}}, \"type\": \"scattergl\"}], \"scattermapbox\": [{\"marker\": {\"colorbar\": {\"outlinewidth\": 0, \"ticks\": \"\"}}, \"type\": \"scattermapbox\"}], \"scatterpolar\": [{\"marker\": {\"colorbar\": {\"outlinewidth\": 0, \"ticks\": \"\"}}, \"type\": \"scatterpolar\"}], \"scatterpolargl\": [{\"marker\": {\"colorbar\": {\"outlinewidth\": 0, \"ticks\": \"\"}}, \"type\": \"scatterpolargl\"}], \"scatterternary\": [{\"marker\": {\"colorbar\": {\"outlinewidth\": 0, \"ticks\": \"\"}}, \"type\": \"scatterternary\"}], \"surface\": [{\"colorbar\": {\"outlinewidth\": 0, \"ticks\": \"\"}, \"colorscale\": [[0.0, \"#0d0887\"], [0.1111111111111111, \"#46039f\"], [0.2222222222222222, \"#7201a8\"], [0.3333333333333333, \"#9c179e\"], [0.4444444444444444, \"#bd3786\"], [0.5555555555555556, \"#d8576b\"], [0.6666666666666666, \"#ed7953\"], [0.7777777777777778, \"#fb9f3a\"], [0.8888888888888888, \"#fdca26\"], [1.0, \"#f0f921\"]], \"type\": \"surface\"}], \"table\": [{\"cells\": {\"fill\": {\"color\": \"#EBF0F8\"}, \"line\": {\"color\": \"white\"}}, \"header\": {\"fill\": {\"color\": \"#C8D4E3\"}, \"line\": {\"color\": \"white\"}}, \"type\": \"table\"}]}, \"layout\": {\"annotationdefaults\": {\"arrowcolor\": \"#2a3f5f\", \"arrowhead\": 0, \"arrowwidth\": 1}, \"coloraxis\": {\"colorbar\": {\"outlinewidth\": 0, \"ticks\": \"\"}}, \"colorscale\": {\"diverging\": [[0, \"#8e0152\"], [0.1, \"#c51b7d\"], [0.2, \"#de77ae\"], [0.3, \"#f1b6da\"], [0.4, \"#fde0ef\"], [0.5, \"#f7f7f7\"], [0.6, \"#e6f5d0\"], [0.7, \"#b8e186\"], [0.8, \"#7fbc41\"], [0.9, \"#4d9221\"], [1, \"#276419\"]], \"sequential\": [[0.0, \"#0d0887\"], [0.1111111111111111, \"#46039f\"], [0.2222222222222222, \"#7201a8\"], [0.3333333333333333, \"#9c179e\"], [0.4444444444444444, \"#bd3786\"], [0.5555555555555556, \"#d8576b\"], [0.6666666666666666, \"#ed7953\"], [0.7777777777777778, \"#fb9f3a\"], [0.8888888888888888, \"#fdca26\"], [1.0, \"#f0f921\"]], \"sequentialminus\": [[0.0, \"#0d0887\"], [0.1111111111111111, \"#46039f\"], [0.2222222222222222, \"#7201a8\"], [0.3333333333333333, \"#9c179e\"], [0.4444444444444444, \"#bd3786\"], [0.5555555555555556, \"#d8576b\"], [0.6666666666666666, \"#ed7953\"], [0.7777777777777778, \"#fb9f3a\"], [0.8888888888888888, \"#fdca26\"], [1.0, \"#f0f921\"]]}, \"colorway\": [\"#636efa\", \"#EF553B\", \"#00cc96\", \"#ab63fa\", \"#FFA15A\", \"#19d3f3\", \"#FF6692\", \"#B6E880\", \"#FF97FF\", \"#FECB52\"], \"font\": {\"color\": \"#2a3f5f\"}, \"geo\": {\"bgcolor\": \"white\", \"lakecolor\": \"white\", \"landcolor\": \"#E5ECF6\", \"showlakes\": true, \"showland\": true, \"subunitcolor\": \"white\"}, \"hoverlabel\": {\"align\": \"left\"}, \"hovermode\": \"closest\", \"mapbox\": {\"style\": \"light\"}, \"paper_bgcolor\": \"white\", \"plot_bgcolor\": \"#E5ECF6\", \"polar\": {\"angularaxis\": {\"gridcolor\": \"white\", \"linecolor\": \"white\", \"ticks\": \"\"}, \"bgcolor\": \"#E5ECF6\", \"radialaxis\": {\"gridcolor\": \"white\", \"linecolor\": \"white\", \"ticks\": \"\"}}, \"scene\": {\"xaxis\": {\"backgroundcolor\": \"#E5ECF6\", \"gridcolor\": \"white\", \"gridwidth\": 2, \"linecolor\": \"white\", \"showbackground\": true, \"ticks\": \"\", \"zerolinecolor\": \"white\"}, \"yaxis\": {\"backgroundcolor\": \"#E5ECF6\", \"gridcolor\": \"white\", \"gridwidth\": 2, \"linecolor\": \"white\", \"showbackground\": true, \"ticks\": \"\", \"zerolinecolor\": \"white\"}, \"zaxis\": {\"backgroundcolor\": \"#E5ECF6\", \"gridcolor\": \"white\", \"gridwidth\": 2, \"linecolor\": \"white\", \"showbackground\": true, \"ticks\": \"\", \"zerolinecolor\": \"white\"}}, \"shapedefaults\": {\"line\": {\"color\": \"#2a3f5f\"}}, \"ternary\": {\"aaxis\": {\"gridcolor\": \"white\", \"linecolor\": \"white\", \"ticks\": \"\"}, \"baxis\": {\"gridcolor\": \"white\", \"linecolor\": \"white\", \"ticks\": \"\"}, \"bgcolor\": \"#E5ECF6\", \"caxis\": {\"gridcolor\": \"white\", \"linecolor\": \"white\", \"ticks\": \"\"}}, \"title\": {\"x\": 0.05}, \"xaxis\": {\"automargin\": true, \"gridcolor\": \"white\", \"linecolor\": \"white\", \"ticks\": \"\", \"title\": {\"standoff\": 15}, \"zerolinecolor\": \"white\", \"zerolinewidth\": 2}, \"yaxis\": {\"automargin\": true, \"gridcolor\": \"white\", \"linecolor\": \"white\", \"ticks\": \"\", \"title\": {\"standoff\": 15}, \"zerolinecolor\": \"white\", \"zerolinewidth\": 2}}}, \"title\": {\"font\": {\"size\": 25}, \"text\": \"Yield-to-Maturity\", \"x\": 0.5, \"xanchor\": \"center\"}, \"updatemenus\": [{\"active\": -1, \"buttons\": [{\"args\": [{\"mode\": \"markers\"}], \"label\": \"Markers\", \"method\": \"update\"}, {\"args\": [{\"mode\": \"lines\"}], \"label\": \"Lines\", \"method\": \"update\"}, {\"args\": [{\"mode\": \"markers+lines\"}], \"label\": \"Markers+Lines\", \"method\": \"update\"}], \"direction\": \"right\", \"pad\": {\"r\": 10, \"t\": 87}, \"showactive\": true, \"type\": \"buttons\", \"x\": 0.5, \"xanchor\": \"center\", \"y\": 0.05, \"yanchor\": \"top\"}], \"width\": 1600, \"xaxis\": {\"range\": [\"2019-03-01T00:00:00\", \"2068-03-01T00:00:00\"], \"title\": {\"font\": {\"size\": 15}, \"text\": \"Maturity\"}}, \"yaxis\": {\"fixedrange\": false, \"hoverformat\": \".4p\", \"range\": [-0.005, 0.0225], \"tickformat\": \".2p\", \"title\": {\"font\": {\"size\": 15}, \"text\": \"Yield-to-Maturity\"}}},\n",
       "                        {\"responsive\": true}\n",
       "                    ).then(function(){\n",
       "                            \n",
       "var gd = document.getElementById('7407bef6-e558-4248-b29c-7263a6a5c317');\n",
       "var x = new MutationObserver(function (mutations, observer) {{\n",
       "        var display = window.getComputedStyle(gd).display;\n",
       "        if (!display || display === 'none') {{\n",
       "            console.log([gd, 'removed!']);\n",
       "            Plotly.purge(gd);\n",
       "            observer.disconnect();\n",
       "        }}\n",
       "}});\n",
       "\n",
       "// Listen for the removal of the full notebook cells\n",
       "var notebookContainer = gd.closest('#notebook-container');\n",
       "if (notebookContainer) {{\n",
       "    x.observe(notebookContainer, {childList: true});\n",
       "}}\n",
       "\n",
       "// Listen for the clearing of the current output cell\n",
       "var outputEl = gd.closest('.output');\n",
       "if (outputEl) {{\n",
       "    x.observe(outputEl, {childList: true});\n",
       "}}\n",
       "\n",
       "                        })\n",
       "                };\n",
       "                });\n",
       "            </script>\n",
       "        </div>"
      ]
     },
     "metadata": {},
     "output_type": "display_data"
    }
   ],
   "source": [
    "po.iplot(yields)"
   ]
  }
 ],
 "metadata": {
  "celltoolbar": "Slideshow",
  "kernelspec": {
   "display_name": "Python 3",
   "language": "python",
   "name": "python3"
  },
  "language_info": {
   "codemirror_mode": {
    "name": "ipython",
    "version": 3
   },
   "file_extension": ".py",
   "mimetype": "text/x-python",
   "name": "python",
   "nbconvert_exporter": "python",
   "pygments_lexer": "ipython3",
   "version": "3.8.3"
  },
  "rise": {
   "scroll": true,
   "start_slideshow_at": "beginning",
   "transition": "concave",
   "width": "100%"
  }
 },
 "nbformat": 4,
 "nbformat_minor": 4
}
