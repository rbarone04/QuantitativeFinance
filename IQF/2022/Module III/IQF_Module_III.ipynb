{
 "cells": [
  {
   "cell_type": "markdown",
   "metadata": {
    "slideshow": {
     "slide_type": "slide"
    }
   },
   "source": [
    "![cover](./images/cover.png)"
   ]
  },
  {
   "cell_type": "code",
   "execution_count": 1,
   "metadata": {
    "extensions": {
     "jupyter_dashboards": {
      "version": 1,
      "views": {
       "grid_default": {
        "col": 0,
        "height": 4,
        "hidden": false,
        "row": 0,
        "width": 4
       },
       "report_default": {
        "hidden": false
       }
      }
     }
    },
    "slideshow": {
     "slide_type": "skip"
    }
   },
   "outputs": [
    {
     "data": {
      "text/html": [
       "        <script type=\"text/javascript\">\n",
       "        window.PlotlyConfig = {MathJaxConfig: 'local'};\n",
       "        if (window.MathJax) {MathJax.Hub.Config({SVG: {font: \"STIX-Web\"}});}\n",
       "        if (typeof require !== 'undefined') {\n",
       "        require.undef(\"plotly\");\n",
       "        requirejs.config({\n",
       "            paths: {\n",
       "                'plotly': ['https://cdn.plot.ly/plotly-latest.min']\n",
       "            }\n",
       "        });\n",
       "        require(['plotly'], function(Plotly) {\n",
       "            window._Plotly = Plotly;\n",
       "        });\n",
       "        }\n",
       "        </script>\n",
       "        "
      ]
     },
     "metadata": {},
     "output_type": "display_data"
    }
   ],
   "source": [
    "import QuantLib as ql\n",
    "import matplotlib.pyplot as plt\n",
    "import numpy as np\n",
    "import pandas as pd\n",
    "import re\n",
    "from datetime import datetime\n",
    "\n",
    "from plotly.offline import init_notebook_mode\n",
    "# from IPython.display import display, HTML\n",
    "import plotly\n",
    "\n",
    "import plotly.offline as po\n",
    "import plotly.graph_objs as go\n",
    "init_notebook_mode(connected=True)"
   ]
  },
  {
   "cell_type": "code",
   "execution_count": 3,
   "metadata": {
    "extensions": {
     "jupyter_dashboards": {
      "version": 1,
      "views": {
       "grid_default": {
        "hidden": true
       },
       "report_default": {
        "hidden": true
       }
      }
     }
    },
    "slideshow": {
     "slide_type": "skip"
    }
   },
   "outputs": [],
   "source": [
    "def getPillar(label):\n",
    "    numList = [int(s) for s in re.findall(r'\\d+',label)]\n",
    "    p = label[-1]\n",
    "    if (p == 'N'):\n",
    "        return ql.Period(1, ql.Days)\n",
    "    elif (p == 'W'):\n",
    "        n = numList[0]\n",
    "        return ql.Period(n, ql.Weeks)\n",
    "    elif(p == 'M'):\n",
    "        n = numList[0]\n",
    "        return ql.Period(n, ql.Months)\n",
    "    else:\n",
    "        n = numList[0]\n",
    "        return ql.Period(n, ql.Years)\n",
    "def long_to_date (longDate):\n",
    "    return datetime.fromordinal(datetime(1900, 1, 1).toordinal() + longDate - 2).strftime('%d/%m/%Y')"
   ]
  },
  {
   "cell_type": "code",
   "execution_count": 4,
   "metadata": {
    "extensions": {
     "jupyter_dashboards": {
      "version": 1,
      "views": {
       "grid_default": {
        "hidden": true
       },
       "report_default": {
        "hidden": true
       }
      }
     }
    },
    "slideshow": {
     "slide_type": "skip"
    }
   },
   "outputs": [],
   "source": [
    "today = ql.Date(15,ql.January, 2021)\n",
    "ql.Settings.instance().evaluationDate = today"
   ]
  },
  {
   "cell_type": "code",
   "execution_count": 5,
   "metadata": {
    "extensions": {
     "jupyter_dashboards": {
      "version": 1,
      "views": {
       "grid_default": {
        "hidden": true
       },
       "report_default": {
        "hidden": true
       }
      }
     }
    },
    "slideshow": {
     "slide_type": "skip"
    }
   },
   "outputs": [],
   "source": [
    "EONIA_helpers = []\n",
    "url_EONIA = './EUROIS.csv'\n",
    "dataset_EONIA = pd.read_csv(url_EONIA)\n",
    "for idx, row in dataset_EONIA.iterrows():\n",
    "    rate = row['Market quote']\n",
    "    fixingDays = row['FixDays']\n",
    "    period = getPillar(row['Maturity'])\n",
    "    if(row['Tp'] == 'Dp'):\n",
    "        EONIA_helpers +=[\n",
    "                        ql.DepositRateHelper(\n",
    "                            ql.QuoteHandle(ql.SimpleQuote(rate)),\n",
    "                            period, fixingDays,\n",
    "                            ql.TARGET(), ql.Following,\n",
    "                            False, ql.Actual360())]\n",
    "eonia = ql.Eonia()\n",
    "for idx, row in dataset_EONIA.iterrows():\n",
    "    rate = row['Market quote']\n",
    "    fixingDays = row['FixDays']\n",
    "    period = getPillar(row['Maturity'])\n",
    "    if(row['Tp'] == 'Sw'):\n",
    "        EONIA_helpers +=[\n",
    "                        ql.OISRateHelper(fixingDays, period,\n",
    "                                         ql.QuoteHandle(ql.SimpleQuote(rate)), eonia)]"
   ]
  },
  {
   "cell_type": "code",
   "execution_count": 6,
   "metadata": {
    "extensions": {
     "jupyter_dashboards": {
      "version": 1,
      "views": {
       "grid_default": {
        "hidden": true
       },
       "report_default": {
        "hidden": true
       }
      }
     }
    },
    "slideshow": {
     "slide_type": "skip"
    }
   },
   "outputs": [],
   "source": [
    "Curve1 = ql.PiecewiseCubicZero(0,ql.TARGET(), EONIA_helpers, ql.Actual365Fixed())\n",
    "Curve1.enableExtrapolation()\n",
    "curve1 = ql.RelinkableYieldTermStructureHandle(Curve1)\n",
    "Curve2 = ql.PiecewiseLinearZero(0,ql.TARGET(), EONIA_helpers, ql.Actual365Fixed())\n",
    "Curve2.enableExtrapolation()\n",
    "curve2 = ql.RelinkableYieldTermStructureHandle(Curve2)"
   ]
  },
  {
   "cell_type": "code",
   "execution_count": 7,
   "metadata": {
    "extensions": {
     "jupyter_dashboards": {
      "version": 1,
      "views": {
       "grid_default": {
        "hidden": true
       },
       "report_default": {
        "hidden": true
       }
      }
     }
    },
    "slideshow": {
     "slide_type": "skip"
    }
   },
   "outputs": [],
   "source": [
    "today = curve1.referenceDate()\n",
    "end = today + ql.Period(60,ql.Years)\n",
    "dates = [ ql.Date(serial) for serial in range(today.serialNumber(),\n",
    "end.serialNumber()+1) ]\n",
    "dates=[d for d in dates if ql.TARGET().isBusinessDay(d)]\n",
    "pillars = [p for p in Curve1.dates()]\n",
    "dat = [long_to_date(date.serialNumber()) for date in dates]\n",
    "pil = [long_to_date(date.serialNumber()) for date in pillars]\n",
    "discounts = [curve1.discount(d) for d in dates]\n",
    "zero_rate = [ curve1.zeroRate(ql.TARGET().advance(d,1,ql.Days), ql.Actual365Fixed(), ql.Simple).rate()\n",
    "for d in dates ]\n",
    "fwd_rate = [curve1.forwardRate(d, ql.TARGET().advance(d,1,ql.Days),ql.Actual360(), ql.Simple).rate() for d in dates]\n",
    "\n",
    "discounts2 = [curve2.discount(d) for d in dates]\n",
    "zero_rate2 = [ curve2.zeroRate(ql.TARGET().advance(d,1,ql.Days), ql.Actual365Fixed(), ql.Simple).rate()\n",
    "for d in dates ]\n",
    "fwd_rate2 = [curve2.forwardRate(d, ql.TARGET().advance(d,1,ql.Days),ql.Actual360(), ql.Simple).rate() for d in dates]\n",
    "\n",
    "pillar_disc = [curve1.discount(d) for d in pillars]\n",
    "pillar_zero_rate = [ curve1.zeroRate(ql.TARGET().advance(d,1,ql.Days), ql.Actual365Fixed(), ql.Simple).rate()\n",
    "for d in pillars ]\n",
    "pillar_fwd_rate = [curve1.forwardRate(d, ql.TARGET().advance(d,1,ql.Days),ql.Actual360(), ql.Simple).rate() for d in pillars]\n"
   ]
  },
  {
   "cell_type": "code",
   "execution_count": 8,
   "metadata": {
    "slideshow": {
     "slide_type": "skip"
    }
   },
   "outputs": [
    {
     "data": {
      "application/vnd.jupyter.widget-view+json": {
       "model_id": "c6d0f93b60314e71a683b4830d2ed594",
       "version_major": 2,
       "version_minor": 0
      },
      "text/plain": [
       "FigureWidget({\n",
       "    'data': [{'line': {'color': 'tomato'},\n",
       "              'name': 'Cubic interpolation',\n",
       "       …"
      ]
     },
     "metadata": {},
     "output_type": "display_data"
    }
   ],
   "source": [
    "fig = go.FigureWidget()\n",
    "#Zero Coupon Rates\n",
    "fig.add_trace(go.Scatter(x=dat, y=zero_rate,name='Cubic interpolation',visible=True,line={'color':'tomato'}))\n",
    "fig.add_trace(go.Scatter(x=dat, y=zero_rate2,name='Linear interpolation',visible=True,line={'color':'turquoise'}))\n",
    "fig.add_trace(go.Scatter(x=pil, y=pillar_zero_rate,name='Pillars',mode='markers',visible=True,marker={'color':'steelblue'}))\n",
    "#Discount Factors\n",
    "fig.add_trace(go.Scatter(x=dat, y=discounts,name='Cubic interpolation',visible=False,line={'color':'tomato'}))\n",
    "fig.add_trace(go.Scatter(x=dat, y=discounts2,name='Linear interpolation',visible=False,line={'color':'steelblue'}))\n",
    "fig.add_trace(go.Scatter(x=pil, y=pillar_disc,name='Pillars',mode='markers',visible=False,marker={'color':'turquoise'}))\n",
    "#O/N Libor rates\n",
    "fig.add_trace(go.Scatter(x=dat, y=fwd_rate,name='Cubic interpolation',visible=False,line={'color':'tomato'}))\n",
    "fig.add_trace(go.Scatter(x=dat, y=fwd_rate2,name='Linear interpolation',visible=False,line={'color':'steelblue'}))\n",
    "fig.add_trace(go.Scatter(x=pil, y=pillar_fwd_rate,name='Pillars',mode='markers',visible=False,marker={'color':'turquoise'}))\n",
    "\n",
    "fig.layout.showlegend = True\n",
    "fig['layout']['xaxis']={'dtick':2560,'title':'Maturity','titlefont':{'size': 10}}\n",
    "fig['layout']['yaxis']={'fixedrange': False,'tickformat':',.1p','hoverformat':',.4p','title':'Zero Coupon Rate','titlefont':{'size': 10}}\n",
    "fig['layout']['height'] = 700\n",
    "fig['layout']['width'] = 1100\n",
    "fig['layout']['hovermode'] = 'x'\n",
    "fig.layout.title={'text':'Interpolation\\'s effects on interest rate curves','font':{'size': 25},'x':0.5,'xanchor':'center'}\n",
    "\n",
    "# Add dropdown\n",
    "fig.update_layout(\n",
    "    updatemenus=[\n",
    "        dict(\n",
    "            buttons=list([\n",
    "                dict(\n",
    "                    args=[{'visible':[True,True,True,False,False,False,False,False,False]},\n",
    "                         {'yaxis':{'fixedrange': False,\n",
    "                                   'tickformat':',.1p',\n",
    "                                   'hoverformat':',.4p',\n",
    "                                   'title':'Zero Coupon Rate',\n",
    "                                   'titlefont':{'size': 10}}}],\n",
    "                    label=\"Zero Coupon Rates\",\n",
    "                    method=\"update\"\n",
    "                ),\n",
    "                dict(\n",
    "                    args=[{'visible':[False,False,False,True,True,True,False,False,False]},\n",
    "                         {'yaxis':{'fixedrange': False,\n",
    "                                   'tickformat':',.2f',\n",
    "                                   'hoverformat':',.5f',\n",
    "                                   'title':'Discount Factor',\n",
    "                                   'titlefont':{'size': 10}}}],\n",
    "                    label=\"Discount Factors\",\n",
    "                    method=\"update\"\n",
    "                ),\n",
    "                dict(\n",
    "                    args=[{'visible':[False,False,False,False,False,False,True,True,True]},\n",
    "                         {'yaxis':{'fixedrange': False,\n",
    "                                   'tickformat':',.1p',\n",
    "                                   'hoverformat':',.4p',\n",
    "                                   'title':'Libor Rate',\n",
    "                                   'titlefont':{'size': 10}}}],\n",
    "                    label=\"Libor Rates\",\n",
    "                    method=\"update\"\n",
    "                )\n",
    "            ]),\n",
    "            direction=\"down\",\n",
    "            pad={\"r\": 10, \"t\": 10},\n",
    "            showactive=True,\n",
    "            x=0.1,\n",
    "            xanchor=\"left\",\n",
    "            y=1.1,\n",
    "            yanchor=\"top\"\n",
    "        ),\n",
    "    ]\n",
    ")"
   ]
  },
  {
   "cell_type": "code",
   "execution_count": 9,
   "metadata": {
    "scrolled": false,
    "slideshow": {
     "slide_type": "slide"
    }
   },
   "outputs": [
    {
     "data": {
      "application/vnd.jupyter.widget-view+json": {
       "model_id": "c6d0f93b60314e71a683b4830d2ed594",
       "version_major": 2,
       "version_minor": 0
      },
      "text/plain": [
       "FigureWidget({\n",
       "    'data': [{'line': {'color': 'tomato'},\n",
       "              'name': 'Cubic interpolation',\n",
       "       …"
      ]
     },
     "metadata": {},
     "output_type": "display_data"
    }
   ],
   "source": [
    "# Add dropdown\n",
    "fig.update_layout(legend={'orientation':'h'},\n",
    "    annotations=[dict(text=\"Curve type\", showarrow=False,x=0.06, y=1.075, yref=\"paper\", align=\"left\")])\n",
    "fig "
   ]
  }
 ],
 "metadata": {
  "celltoolbar": "Slideshow",
  "extensions": {
   "jupyter_dashboards": {
    "activeView": "report_default",
    "version": 1,
    "views": {
     "grid_default": {
      "cellMargin": 10,
      "defaultCellHeight": 20,
      "maxColumns": 12,
      "name": "grid",
      "type": "grid"
     },
     "report_default": {
      "name": "report",
      "type": "report"
     }
    }
   }
  },
  "kernelspec": {
   "display_name": "Python 3",
   "language": "python",
   "name": "python3"
  },
  "language_info": {
   "codemirror_mode": {
    "name": "ipython",
    "version": 3
   },
   "file_extension": ".py",
   "mimetype": "text/x-python",
   "name": "python",
   "nbconvert_exporter": "python",
   "pygments_lexer": "ipython3",
   "version": "3.8.3"
  },
  "rise": {
   "scroll": true,
   "start_slideshow_at": "beginning",
   "transition": "concave",
   "width": "100%"
  }
 },
 "nbformat": 4,
 "nbformat_minor": 2
}
